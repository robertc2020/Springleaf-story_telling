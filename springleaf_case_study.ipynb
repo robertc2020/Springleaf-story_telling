{
 "cells": [
  {
   "cell_type": "markdown",
   "metadata": {},
   "source": [
    "# A story about a large dataset - Kaggle's Springleaf customer case study\n",
    "\n",
    "A vast majority of machine learning problems, for example on Kaggle platform, are based on dataset with small number of features (<50) whose description helps to conduct a meaningful exploratory data analysis, data engineering and modelling. Bulding a model for such problems seems relatively straighforward. A model training, including hyperparameter tuning, goes typically pretty fast. But how does this situation change if the dataset is very large and contains thousands of features that in addition are anonymized due to privacy considerations? Can we still preform a meaningful data analysis and constuct a robust model based on a very limited domain knowledge? Does the large number of features introduce additonal challenge for computing time? \n",
    "\n",
    "We tried to answer these questions by studying the [Springleaf customer marketing response](https://www.kaggle.com/c/springleaf-marketing-response/overview) dataset from Kaggle. The Springleaf company  offers personal and auto loans and needs to narrow their list customers to those who will respond to their direct mail offer. The company's dataset contains historical information about their 145,000 customers, each described by 2,000 anonymized features. The machine learning model is based on binary classification. About 23\\% of historical customers responded to the offer that was sent to them.\n",
    "\n",
    "\n",
    "As a starting point in the data exploration, we divided the features into three classes following feature types: out of 1932 feaures, about 1400 are numerical integers, 480 are numerical floats, and 50 are recorder as strings (predominantly categorical and datetime features). We performed exploratory data analysis in each of the 3 classes separately. \n",
    "\n",
    "Missing values. Numerical integer features (Sec. 3) do not contain any missing numbers and are good to be injected into a machine learning model. In contrast, numerical float features (Sec. 4) and string or categorical features contain missing numbers that required extra studies. About 10 out of 480 float features miss information for more than 60\\% of customers (Sec 4.1), however this information differ among customers who accepted and rejected the offer, hence it might be useful to enhance the model performance. As a result, rather than removing these features, we decided to replace the missing values for a given feature by the minimum calculated for all the customers. Similarly, 15 out of 50 string features have large number of missing values (again for at least 60\\% of customers) that differ beetwen customers who responed to or ignored the email. Again, rather than removing them we decied to treat then as an extra value for these categorical features. \n",
    "\n",
    "Feature engineering. Only string variables require feature engineering see Sec. 5.3. In general, we found that most of the string features are described by a low number of unique values and can be coverted to numerical values by label or one hot encoding. One feature corresond to about 50 labels describing US states, which could be treated in a similar way. A features contain datetime data and can be converted into year, month, day of the month, day of the week etc. One feaure contains more than 12k names of US locations (cities/towns). With an additional information about their population from CENSUS one could convert those fields into just a few corresponding to different city/town sizes. Two features list various profession/position names and have a few hundred unique values, respectively. Most of the professions are listed only once or twice, hence settining a threshold on the minimal number of apperences could limit the number of labels to not more than 100 or 150.\n",
    "\n",
    "Model building and hyperparameter tuning. We decieded to start with the Random Forest model, which we run on numbercal integer and float numbers. Unfortunately the hyperparameter tuning in many dimentions is pretty time consuming, one would need to perform one-dimensional scans separately for each of the parameter.\n",
    "\n",
    "Dimentionality reduction is possible, using feature importances and PCA analysis we came to conclusion that the feature dimensions could be reduced from 1,400 to 400 variables for integers, and from 480 to 270 for floats. \n",
    "\n",
    "Validation. It's a Kaggle competions. Running only of numerical float features give the AUC prediction score of 0.76, which is very promising given the highest score achived for that competion was 0.82.\n",
    "\n",
    "\n",
    "\n",
    "* [1. Introduction](#1_introduction)\n",
    "* [2. Dataset](#2_dataset)\n",
    "* [3. Numerical features / integers](#3_numercal_ints)\n",
    "    * [3.1 Missing values](#3.1_nulls)\n",
    "    * [3.2 Unique values](#3.2_uniques)\n",
    "    * [3.3 How symmetric are the distributions?](#3.3_symmetric)\n",
    "    * [3.4 Random Forest Classifier](#3.4_rf)\n",
    "        * [3.4.1 Feature importance](#3.4.1_fi)\n",
    "        * [3.4.2 PCA](#3.4.2_pca)\n",
    "    * [3.5 XGBoost Classifier](#3.5_xgb')\n",
    "* [4. Numerical features / floats](#4_numerical_floats)\n",
    "    * [4.1 Missing values](#4.1_nulls)\n",
    "    * [4.2 Unique values](#4.2_uniques)\n",
    "    * [4.3 Feature engineering (floats)](#4.3_fi)\n",
    "    * [4.4 Random Forest Classifier](#4.4_rf)\n",
    "        * [4.4.1 Feature importance](#4.4.1_fi)\n",
    "        * [4.4.2 PCA](#4.4.2_pca)\n",
    "        * [4.4.3 Kolmogorov-Smirnov test](#4.4.3_ks_test)\n",
    "        * [4.4.4 Correlation matrix](#4.4.4_corr)\n",
    "* [5. Categorical features](#5_categorical)\n",
    "    * [5.1 Missing values](#5.1_nulls)\n",
    "    * [5.2 Unique values](#5.2_uniques)\n",
    "    * [5.3 Feature engineering (strings)](#5.3_fi)"
   ]
  },
  {
   "cell_type": "markdown",
   "metadata": {},
   "source": [
    "## 1. Introduction <a id='1_introduction'></a>"
   ]
  },
  {
   "cell_type": "markdown",
   "metadata": {},
   "source": [
    "The dataset is desribed above. Let's load needed libraries here."
   ]
  },
  {
   "cell_type": "code",
   "execution_count": 1,
   "metadata": {},
   "outputs": [],
   "source": [
    "import pandas as pd\n",
    "import numpy as np\n",
    "import matplotlib.pyplot as plt\n",
    "import seaborn as sns\n",
    "\n",
    "from matplotlib import colors "
   ]
  },
  {
   "cell_type": "code",
   "execution_count": null,
   "metadata": {},
   "outputs": [],
   "source": []
  },
  {
   "cell_type": "markdown",
   "metadata": {},
   "source": [
    "## 2. Dataset <a id='2_dataset'></a>"
   ]
  },
  {
   "cell_type": "code",
   "execution_count": 2,
   "metadata": {},
   "outputs": [],
   "source": [
    "df_all = pd.read_csv(\"./train.csv\",index_col='ID',na_values=['NaN','nan'],low_memory=False)\n",
    "dt_all = pd.read_csv(\"./test.csv\" ,index_col='ID',na_values=['NaN','nan'],low_memory=False)"
   ]
  },
  {
   "cell_type": "code",
   "execution_count": 3,
   "metadata": {},
   "outputs": [
    {
     "data": {
      "text/plain": [
       "(145231, 1933)"
      ]
     },
     "execution_count": 3,
     "metadata": {},
     "output_type": "execute_result"
    }
   ],
   "source": [
    "df_all.shape"
   ]
  },
  {
   "cell_type": "code",
   "execution_count": 4,
   "metadata": {},
   "outputs": [
    {
     "data": {
      "text/plain": [
       "(145232, 1932)"
      ]
     },
     "execution_count": 4,
     "metadata": {},
     "output_type": "execute_result"
    }
   ],
   "source": [
    "dt_all.shape"
   ]
  },
  {
   "cell_type": "code",
   "execution_count": 208,
   "metadata": {},
   "outputs": [
    {
     "data": {
      "image/png": "[encoded data removed]",
      "text/plain": [
       "<Figure size 720x360 with 1 Axes>"
      ]
     },
     "metadata": {
      "needs_background": "light"
     },
     "output_type": "display_data"
    }
   ],
   "source": [
    "df_all['target'].hist(figsize=(10,5));"
   ]
  },
  {
   "cell_type": "code",
   "execution_count": 5,
   "metadata": {},
   "outputs": [
    {
     "data": {
      "text/plain": [
       "int64      1405\n",
       "float64     477\n",
       "object       51\n",
       "dtype: int64"
      ]
     },
     "execution_count": 5,
     "metadata": {},
     "output_type": "execute_result"
    }
   ],
   "source": [
    "df_all.dtypes.value_counts()"
   ]
  },
  {
   "cell_type": "code",
   "execution_count": 6,
   "metadata": {},
   "outputs": [
    {
     "data": {
      "text/plain": [
       "int64      1404\n",
       "float64     477\n",
       "object       51\n",
       "dtype: int64"
      ]
     },
     "execution_count": 6,
     "metadata": {},
     "output_type": "execute_result"
    }
   ],
   "source": [
    "dt_all.dtypes.value_counts()"
   ]
  },
  {
   "cell_type": "markdown",
   "metadata": {},
   "source": [
    "As we will see later, those 3 data types have ...."
   ]
  },
  {
   "cell_type": "markdown",
   "metadata": {},
   "source": [
    "## 3. Numerical features / integers <a id='3_numerical_ints'></a>"
   ]
  },
  {
   "cell_type": "code",
   "execution_count": 7,
   "metadata": {},
   "outputs": [
    {
     "data": {
      "text/plain": [
       "(145231, 1405)"
      ]
     },
     "execution_count": 7,
     "metadata": {},
     "output_type": "execute_result"
    }
   ],
   "source": [
    "dfi = df_all.select_dtypes(include='int')\n",
    "dfi.shape"
   ]
  },
  {
   "cell_type": "markdown",
   "metadata": {},
   "source": [
    "### 3.1 Missing values <a id='3.1_nulls'></a>"
   ]
  },
  {
   "cell_type": "code",
   "execution_count": null,
   "metadata": {},
   "outputs": [],
   "source": []
  },
  {
   "cell_type": "code",
   "execution_count": 89,
   "metadata": {},
   "outputs": [
    {
     "data": {
      "image/png": "[encoded data removed]",
      "text/plain": [
       "<Figure size 720x216 with 2 Axes>"
      ]
     },
     "metadata": {
      "needs_background": "light"
     },
     "output_type": "display_data"
    }
   ],
   "source": [
    "# for columns - sum over rows\n",
    "# for rows - sum over columns\n",
    "c= dfi.isna().sum(axis=0)/dfi.shape[0]\n",
    "r= dfi.isna().sum(axis=1)/dfi.shape[1]\n",
    "\n",
    "fig, ax = plt.subplots(1,2,figsize=(10,3))\n",
    "\n",
    "ax[0].hist(c) \n",
    "ax[1].hist(r)\n",
    "\n",
    "fig.suptitle('Numerical features (integers)')\n",
    "ax[0].set_yscale('log'); ax[0].set_ylim((0.5,len(c)*10)); ax[0].set_xlabel('N. of null entries / column')\n",
    "ax[1].set_yscale('log'); ax[1].set_ylim((0.5,len(r)*10)); ax[1].set_xlabel('N. of null entries / row');"
   ]
  },
  {
   "cell_type": "markdown",
   "metadata": {},
   "source": [
    "Very good, there are no missing values in this class. Let's move to the next step and inspect the structure of the data by looking at multiplicities of unique values per feature."
   ]
  },
  {
   "cell_type": "markdown",
   "metadata": {},
   "source": [
    "### 3.2 Unique values <a id='3.2_uniques'></a>"
   ]
  },
  {
   "cell_type": "code",
   "execution_count": 9,
   "metadata": {},
   "outputs": [
    {
     "data": {
      "text/plain": [
       "VAR_0899    82419\n",
       "VAR_0543    81073\n",
       "VAR_1087    79850\n",
       "VAR_1082    75972\n",
       "VAR_1180    75583\n",
       "            ...  \n",
       "VAR_0566        2\n",
       "VAR_0563        2\n",
       "VAR_0924        2\n",
       "VAR_1428        1\n",
       "VAR_0847        1\n",
       "Length: 1405, dtype: int64"
      ]
     },
     "execution_count": 9,
     "metadata": {},
     "output_type": "execute_result"
    }
   ],
   "source": [
    "nuni = []\n",
    "nuni_dic = {}\n",
    "\n",
    "for col in dfi.columns:\n",
    "    \n",
    "    nuni.append(dfi[col].nunique(dropna=False))\n",
    "    nuni_dic[col] = dfi[col].nunique(dropna=False)\n",
    "    \n",
    "pd.Series(nuni_dic).sort_values(ascending=False)"
   ]
  },
  {
   "cell_type": "code",
   "execution_count": 10,
   "metadata": {},
   "outputs": [
    {
     "data": {
      "image/png": "[encoded data removed]",
      "text/plain": [
       "<Figure size 720x360 with 1 Axes>"
      ]
     },
     "metadata": {
      "needs_background": "light"
     },
     "output_type": "display_data"
    }
   ],
   "source": [
    "plt.figure(figsize=(10,5))\n",
    "\n",
    "# with plotting\n",
    "#hist, bins, _ = plt.hist(nuni, bins=100)\n",
    "# w/o plotting\n",
    "hist, bins= np.histogram(nuni, bins=100)\n",
    "logbins = np.logspace(np.log10(1),np.log10(bins[-1]),len(bins))\n",
    "\n",
    "#plt.subplot(121)\n",
    "plt.hist(nuni, bins=logbins)\n",
    "plt.xscale('log')\n",
    "plt.xticks(fontsize=16)\n",
    "plt.yticks(fontsize=16)\n",
    "plt.title(\"Unique values per feature (ints)\",fontsize=15)\n",
    "plt.xlabel(\"Number of feature's unique values\",fontsize=15)\n",
    "plt.ylabel(\"Number of features\",fontsize=15)\n",
    "plt.show()"
   ]
  },
  {
   "cell_type": "markdown",
   "metadata": {},
   "source": [
    "Interesting. A few features have just one unique value, some of them have 2, 3, etc unique values, there are also those with more than 1k values. The higher values correspond to continueous variables, which is good, but let's inspect a few of those with low multiplicities."
   ]
  },
  {
   "cell_type": "code",
   "execution_count": 11,
   "metadata": {},
   "outputs": [],
   "source": [
    "i1 = []\n",
    "i2 = []\n",
    "i3 = []\n",
    "i4 = []\n",
    "i5 = []\n",
    "i6 = []\n",
    "\n",
    "for k,v in nuni_dic.items():\n",
    "    \n",
    "    if(v==1): i1.append(k)\n",
    "    elif (v==2): i2.append(k)\n",
    "    elif (v==3): i3.append(k)\n",
    "    elif (v==4): i4.append(k)\n",
    "    elif (v==5): i5.append(k)  \n",
    "    elif (v==6): i6.append(k)"
   ]
  },
  {
   "cell_type": "code",
   "execution_count": 12,
   "metadata": {},
   "outputs": [
    {
     "name": "stdout",
     "output_type": "stream",
     "text": [
      "1    145231\n",
      "Name: VAR_0847, dtype: int64 \n",
      " ---\n",
      "0    145231\n",
      "Name: VAR_1428, dtype: int64 \n",
      " ---\n"
     ]
    }
   ],
   "source": [
    "for v in i1:\n",
    "    print(dfi[v].value_counts(dropna=False),'\\n ---')"
   ]
  },
  {
   "cell_type": "code",
   "execution_count": 13,
   "metadata": {},
   "outputs": [
    {
     "name": "stdout",
     "output_type": "stream",
     "text": [
      "0    140501\n",
      "1      4730\n",
      "Name: VAR_0563, dtype: int64 \n",
      " ---\n",
      "0    121232\n",
      "1     23999\n",
      "Name: VAR_0566, dtype: int64 \n",
      " ---\n",
      "0    143064\n",
      "1      2167\n",
      "Name: VAR_0567, dtype: int64 \n",
      " ---\n",
      "-99999    74801\n",
      " 0        70430\n",
      "Name: VAR_0732, dtype: int64 \n",
      " ---\n",
      " 0        110393\n",
      "-99999     34838\n",
      "Name: VAR_0733, dtype: int64 \n",
      " ---\n",
      " 0        92376\n",
      "-99999    52855\n",
      "Name: VAR_0736, dtype: int64 \n",
      " ---\n",
      "-99999    81544\n",
      " 0        63687\n",
      "Name: VAR_0737, dtype: int64 \n",
      " ---\n",
      " 0        112352\n",
      "-99999     32879\n",
      "Name: VAR_0739, dtype: int64 \n",
      " ---\n",
      "0    118217\n",
      "1     27014\n",
      "Name: VAR_0740, dtype: int64 \n",
      " ---\n",
      "0    141328\n",
      "1      3903\n",
      "Name: VAR_0741, dtype: int64 \n",
      " ---\n",
      "0    144760\n",
      "1       471\n",
      "Name: VAR_0924, dtype: int64 \n",
      " ---\n",
      "0    119058\n",
      "1     26173\n",
      "Name: VAR_1162, dtype: int64 \n",
      " ---\n",
      "0    120946\n",
      "1     24285\n",
      "Name: VAR_1163, dtype: int64 \n",
      " ---\n",
      "0    144409\n",
      "1       822\n",
      "Name: VAR_1164, dtype: int64 \n",
      " ---\n",
      "0    144165\n",
      "1      1066\n",
      "Name: VAR_1165, dtype: int64 \n",
      " ---\n",
      "0    145145\n",
      "1        86\n",
      "Name: VAR_1427, dtype: int64 \n",
      " ---\n",
      "0    111458\n",
      "1     33773\n",
      "Name: target, dtype: int64 \n",
      " ---\n"
     ]
    }
   ],
   "source": [
    "for v in i2:\n",
    "    print(dfi[v].value_counts(dropna=False),'\\n ---')"
   ]
  },
  {
   "cell_type": "code",
   "execution_count": 14,
   "metadata": {},
   "outputs": [
    {
     "name": "stdout",
     "output_type": "stream",
     "text": [
      "0    140366\n",
      "1      4715\n",
      "9       150\n",
      "Name: VAR_0923, dtype: int64 \n",
      " ---\n",
      "0     138276\n",
      "1       6354\n",
      "99       601\n",
      "Name: VAR_1175, dtype: int64 \n",
      " ---\n",
      "0     132944\n",
      "1      11686\n",
      "99       601\n",
      "Name: VAR_1176, dtype: int64 \n",
      " ---\n"
     ]
    }
   ],
   "source": [
    "for v in i3:\n",
    "    print(dfi[v].value_counts(dropna=False),'\\n ---')"
   ]
  },
  {
   "cell_type": "code",
   "execution_count": 15,
   "metadata": {},
   "outputs": [
    {
     "name": "stdout",
     "output_type": "stream",
     "text": [
      "-99999    131353\n",
      " 0         11265\n",
      " 1          2560\n",
      " 2            53\n",
      "Name: VAR_0809, dtype: int64 \n",
      " ---\n",
      "0     143396\n",
      "1       1177\n",
      "99       601\n",
      "2         57\n",
      "Name: VAR_0994, dtype: int64 \n",
      " ---\n",
      "0     144449\n",
      "99       601\n",
      "1        175\n",
      "2          6\n",
      "Name: VAR_1012, dtype: int64 \n",
      " ---\n",
      "0     144393\n",
      "99       601\n",
      "1        225\n",
      "2         12\n",
      "Name: VAR_1013, dtype: int64 \n",
      " ---\n",
      "0    135438\n",
      "1      9163\n",
      "2       587\n",
      "3        43\n",
      "Name: VAR_1557, dtype: int64 \n",
      " ---\n",
      "0    127972\n",
      "1     17166\n",
      "2        92\n",
      "3         1\n",
      "Name: VAR_1562, dtype: int64 \n",
      " ---\n",
      "0     144252\n",
      "99       601\n",
      "1        359\n",
      "2         19\n",
      "Name: VAR_1590, dtype: int64 \n",
      " ---\n",
      "998    143814\n",
      "1         739\n",
      "999       601\n",
      "400        77\n",
      "Name: VAR_1849, dtype: int64 \n",
      " ---\n"
     ]
    }
   ],
   "source": [
    "for v in i4:\n",
    "    print(dfi[v].value_counts(dropna=False),'\\n ---')"
   ]
  },
  {
   "cell_type": "code",
   "execution_count": 16,
   "metadata": {},
   "outputs": [
    {
     "name": "stdout",
     "output_type": "stream",
     "text": [
      "98    131582\n",
      "0      12683\n",
      "99       601\n",
      "1        352\n",
      "2         13\n",
      "Name: VAR_0637, dtype: int64 \n",
      " ---\n",
      "98    131582\n",
      "97      8396\n",
      "0       4583\n",
      "99       601\n",
      "1         69\n",
      "Name: VAR_0639, dtype: int64 \n",
      " ---\n",
      "98    131582\n",
      "97      8396\n",
      "0       4607\n",
      "99       601\n",
      "1         45\n",
      "Name: VAR_0640, dtype: int64 \n",
      " ---\n",
      "-99999    109735\n",
      " 0         33149\n",
      " 1          2284\n",
      " 2            61\n",
      " 3             2\n",
      "Name: VAR_0745, dtype: int64 \n",
      " ---\n",
      "-99999    131353\n",
      " 0          7440\n",
      " 1          6168\n",
      " 2           265\n",
      " 3             5\n",
      "Name: VAR_0799, dtype: int64 \n",
      " ---\n",
      "-99999    131353\n",
      " 0          9514\n",
      " 1          4238\n",
      " 2           125\n",
      " 3             1\n",
      "Name: VAR_0804, dtype: int64 \n",
      " ---\n",
      "0     142443\n",
      "1       2085\n",
      "99       601\n",
      "2         98\n",
      "3          4\n",
      "Name: VAR_0995, dtype: int64 \n",
      " ---\n",
      "0     141946\n",
      "1       2554\n",
      "99       601\n",
      "2        121\n",
      "3          9\n",
      "Name: VAR_1050, dtype: int64 \n",
      " ---\n",
      "0     142769\n",
      "1       1774\n",
      "99       601\n",
      "2         84\n",
      "3          3\n",
      "Name: VAR_1051, dtype: int64 \n",
      " ---\n",
      "0     108943\n",
      "98     30767\n",
      "1       4834\n",
      "99       601\n",
      "2         86\n",
      "Name: VAR_1187, dtype: int64 \n",
      " ---\n",
      "98    133696\n",
      "0      10251\n",
      "1        659\n",
      "99       601\n",
      "2         24\n",
      "Name: VAR_1213, dtype: int64 \n",
      " ---\n",
      "0     132240\n",
      "98     11989\n",
      "99       601\n",
      "1        382\n",
      "2         19\n",
      "Name: VAR_1230, dtype: int64 \n",
      " ---\n",
      "98    131582\n",
      "0      12632\n",
      "99       601\n",
      "1        413\n",
      "2          3\n",
      "Name: VAR_1430, dtype: int64 \n",
      " ---\n",
      "98    131582\n",
      "0      12934\n",
      "99       601\n",
      "1        112\n",
      "2          2\n",
      "Name: VAR_1432, dtype: int64 \n",
      " ---\n",
      "0    127786\n",
      "1     15694\n",
      "2      1614\n",
      "3       132\n",
      "4         5\n",
      "Name: VAR_1533, dtype: int64 \n",
      " ---\n",
      "0    107787\n",
      "1     30902\n",
      "2      5873\n",
      "3       647\n",
      "4        22\n",
      "Name: VAR_1538, dtype: int64 \n",
      " ---\n",
      "0    128720\n",
      "1     14816\n",
      "2      1574\n",
      "3       118\n",
      "4         3\n",
      "Name: VAR_1547, dtype: int64 \n",
      " ---\n",
      "0    128767\n",
      "1     14139\n",
      "2      2118\n",
      "3       199\n",
      "4         8\n",
      "Name: VAR_1552, dtype: int64 \n",
      " ---\n",
      "0    113646\n",
      "1     31246\n",
      "2       323\n",
      "3        15\n",
      "4         1\n",
      "Name: VAR_1563, dtype: int64 \n",
      " ---\n",
      "0     141379\n",
      "1       3069\n",
      "99       601\n",
      "2        176\n",
      "3          6\n",
      "Name: VAR_1584, dtype: int64 \n",
      " ---\n",
      "98    127280\n",
      "0      17181\n",
      "99       601\n",
      "1        168\n",
      "2          1\n",
      "Name: VAR_1723, dtype: int64 \n",
      " ---\n",
      "98    143814\n",
      "0        739\n",
      "99       601\n",
      "1         76\n",
      "2          1\n",
      "Name: VAR_1844, dtype: int64 \n",
      " ---\n",
      "998    143814\n",
      "999       601\n",
      "997       538\n",
      "1         267\n",
      "400        11\n",
      "Name: VAR_1848, dtype: int64 \n",
      " ---\n"
     ]
    }
   ],
   "source": [
    "for v in i5:\n",
    "    print(dfi[v].value_counts(dropna=False),'\\n ---')"
   ]
  },
  {
   "cell_type": "code",
   "execution_count": 17,
   "metadata": {},
   "outputs": [
    {
     "name": "stdout",
     "output_type": "stream",
     "text": [
      "-99999    109735\n",
      " 0         31739\n",
      " 1          3577\n",
      " 2           173\n",
      " 3             6\n",
      " 4             1\n",
      "Name: VAR_0735, dtype: int64 \n",
      " ---\n",
      "-99999    109735\n",
      " 0         32832\n",
      " 1          2570\n",
      " 2            87\n",
      " 3             6\n",
      " 4             1\n",
      "Name: VAR_0763, dtype: int64 \n",
      " ---\n",
      "0     144034\n",
      "99       601\n",
      "1        576\n",
      "2         18\n",
      "9          1\n",
      "3          1\n",
      "Name: VAR_1055, dtype: int64 \n",
      " ---\n",
      "0    128232\n",
      "1     14752\n",
      "2      1899\n",
      "3       296\n",
      "4        42\n",
      "5        10\n",
      "Name: VAR_1558, dtype: int64 \n",
      " ---\n",
      "98    82186\n",
      "0     60419\n",
      "1      1949\n",
      "99      601\n",
      "2        73\n",
      "3         3\n",
      "Name: VAR_1586, dtype: int64 \n",
      " ---\n",
      "98    84787\n",
      "0     58055\n",
      "1      1759\n",
      "99      601\n",
      "2        28\n",
      "3         1\n",
      "Name: VAR_1663, dtype: int64 \n",
      " ---\n",
      "98    84787\n",
      "0     37446\n",
      "97    22140\n",
      "99      601\n",
      "1       256\n",
      "2         1\n",
      "Name: VAR_1671, dtype: int64 \n",
      " ---\n",
      "98    84787\n",
      "0     57867\n",
      "1      1950\n",
      "99      601\n",
      "2        25\n",
      "4         1\n",
      "Name: VAR_1679, dtype: int64 \n",
      " ---\n",
      "98    84787\n",
      "0     35533\n",
      "97    22140\n",
      "1      2146\n",
      "99      601\n",
      "2        24\n",
      "Name: VAR_1680, dtype: int64 \n",
      " ---\n",
      "0     143814\n",
      "1        669\n",
      "99       601\n",
      "2        120\n",
      "3         23\n",
      "4          4\n",
      "Name: VAR_1843, dtype: int64 \n",
      " ---\n",
      "98    127823\n",
      "0      16612\n",
      "99       601\n",
      "1        192\n",
      "2          2\n",
      "4          1\n",
      "Name: VAR_1926, dtype: int64 \n",
      " ---\n"
     ]
    }
   ],
   "source": [
    "for v in i6:\n",
    "    print(dfi[v].value_counts(dropna=False),'\\n ---')"
   ]
  },
  {
   "cell_type": "markdown",
   "metadata": {},
   "source": [
    "Features VAR_0847 and VAR_1428 have only one value (0 or 1) and we will remove them from the dataset before training. A few features have only two values of 0 and 1, most likely logical. The others seem to describe some sort of ordering or classification, but in addition to (ordered) lowest positive integers (0, 1, 2, 3, etc.), there also show values as large as 98, 99, 999, -99999. These could correspond to some sort of missing information. In general, the distributions within these features are discrete and pretty unbalanced. This implies that the safest machine learning mode to be considered for classification should be based on Decision Trees, such as Random Forest Classifier, of XGBoost Classifier. We will later consider those, but first let's also briefly inspect remaining features."
   ]
  },
  {
   "cell_type": "markdown",
   "metadata": {},
   "source": [
    "### 3.3 How symmetric are the distributions? <a id='3.3_symmetric'></a>"
   ]
  },
  {
   "cell_type": "code",
   "execution_count": null,
   "metadata": {},
   "outputs": [],
   "source": []
  },
  {
   "cell_type": "code",
   "execution_count": 18,
   "metadata": {},
   "outputs": [],
   "source": [
    "cols = dfi.columns\n",
    "\n",
    "#mean and median normalized to a spectrum range, symmetric at 0.5.\n",
    "m = []\n",
    "md = []\n",
    "\n",
    "for col in cols:\n",
    "    if dfi[col].nunique() > 1:\n",
    "        \n",
    "        mi = dfi[col].min()\n",
    "        ma = dfi[col].max()\n",
    "        \n",
    "        m.append(  (dfi[col].mean()  -  mi)/(ma - mi) )\n",
    "        md.append( (dfi[col].median() - mi)/(ma - mi) )"
   ]
  },
  {
   "cell_type": "code",
   "execution_count": 19,
   "metadata": {},
   "outputs": [
    {
     "data": {
      "image/png": "[encoded data removed]",
      "text/plain": [
       "<Figure size 1296x360 with 3 Axes>"
      ]
     },
     "metadata": {
      "needs_background": "light"
     },
     "output_type": "display_data"
    }
   ],
   "source": [
    "fig, ax = plt.subplots(1,3,figsize=(18,5))\n",
    "\n",
    "ax[0].hist(m,bins=20)\n",
    "ax[1].hist(md,bins=20)\n",
    "ax[2].hist(np.array(m)-np.array(md),bins=20);\n",
    "\n",
    "ax[0].set_xlabel('(MEAN - min)/(max - min)',fontsize=16)\n",
    "ax[1].set_xlabel('(MEDIAN - min)/(max - min)',fontsize=16)\n",
    "ax[2].set_xlabel('(MEAN - MEDIAN)/(max - min)',fontsize=16);\n",
    "\n",
    "#nu=np.array(nuni); nu = nu[nu>1]\n",
    "#hist, bins= np.histogram(nu.ravel(), bins=100)\n",
    "#logbins = np.logspace(np.log10(1),np.log10(bins[-1]),len(bins))\n",
    "#ax[2].hist2d(np.array(m)-np.array(md),nu.ravel(),bins=(20,logbins),norm = colors.LogNorm());\n",
    "#ax[2].set_yscale('log')\n",
    "\n",
    "#fig.colorbar(cm.ScalarMappable(norm=norm, cmap=cmap), ax=ax[2])\n",
    "#fig.colorbar(ax=ax[2])\n"
   ]
  },
  {
   "cell_type": "code",
   "execution_count": null,
   "metadata": {},
   "outputs": [],
   "source": []
  },
  {
   "cell_type": "code",
   "execution_count": 20,
   "metadata": {},
   "outputs": [
    {
     "data": {
      "text/plain": [
       "(145231, 1405)"
      ]
     },
     "execution_count": 20,
     "metadata": {},
     "output_type": "execute_result"
    }
   ],
   "source": [
    "dfi.shape"
   ]
  },
  {
   "cell_type": "code",
   "execution_count": 21,
   "metadata": {},
   "outputs": [
    {
     "data": {
      "text/plain": [
       "(145231, 1402)"
      ]
     },
     "execution_count": 21,
     "metadata": {},
     "output_type": "execute_result"
    }
   ],
   "source": [
    "dfi = dfi.drop(i1,axis=1)\n",
    "dfi = dfi.drop('target',axis=1)\n",
    "dfi.shape"
   ]
  },
  {
   "cell_type": "code",
   "execution_count": null,
   "metadata": {},
   "outputs": [],
   "source": []
  },
  {
   "cell_type": "code",
   "execution_count": 22,
   "metadata": {},
   "outputs": [],
   "source": [
    "y = df_all['target']\n",
    "X = dfi"
   ]
  },
  {
   "cell_type": "code",
   "execution_count": null,
   "metadata": {},
   "outputs": [],
   "source": []
  },
  {
   "cell_type": "code",
   "execution_count": 23,
   "metadata": {},
   "outputs": [
    {
     "data": {
      "image/png": "[encoded data removed]",
      "text/plain": [
       "<Figure size 720x216 with 1 Axes>"
      ]
     },
     "metadata": {
      "needs_background": "light"
     },
     "output_type": "display_data"
    }
   ],
   "source": [
    "y[y.iloc[:]==1].reset_index()['ID'].hist(bins=100,figsize=(10,3));"
   ]
  },
  {
   "cell_type": "code",
   "execution_count": null,
   "metadata": {},
   "outputs": [],
   "source": []
  },
  {
   "cell_type": "code",
   "execution_count": 24,
   "metadata": {},
   "outputs": [],
   "source": [
    "from sklearn.ensemble import RandomForestClassifier\n",
    "from sklearn.model_selection import train_test_split\n",
    "from sklearn.model_selection import GridSearchCV\n",
    "from sklearn.model_selection import RandomizedSearchCV\n",
    "from sklearn.metrics import classification_report, confusion_matrix, roc_curve, auc, roc_auc_score"
   ]
  },
  {
   "cell_type": "code",
   "execution_count": 25,
   "metadata": {},
   "outputs": [],
   "source": [
    "X_train, X_test, y_train, y_test = train_test_split(X, y, test_size=0.25, random_state=111)"
   ]
  },
  {
   "cell_type": "code",
   "execution_count": null,
   "metadata": {},
   "outputs": [],
   "source": []
  },
  {
   "cell_type": "markdown",
   "metadata": {},
   "source": [
    "### 3.4 Random Forest Classifier <a id='3.4_rf'></a>"
   ]
  },
  {
   "cell_type": "code",
   "execution_count": 26,
   "metadata": {},
   "outputs": [],
   "source": [
    "rf = RandomForestClassifier(random_state=222)"
   ]
  },
  {
   "cell_type": "code",
   "execution_count": 27,
   "metadata": {},
   "outputs": [
    {
     "data": {
      "text/plain": [
       "{'bootstrap': True,\n",
       " 'ccp_alpha': 0.0,\n",
       " 'class_weight': None,\n",
       " 'criterion': 'gini',\n",
       " 'max_depth': None,\n",
       " 'max_features': 'auto',\n",
       " 'max_leaf_nodes': None,\n",
       " 'max_samples': None,\n",
       " 'min_impurity_decrease': 0.0,\n",
       " 'min_impurity_split': None,\n",
       " 'min_samples_leaf': 1,\n",
       " 'min_samples_split': 2,\n",
       " 'min_weight_fraction_leaf': 0.0,\n",
       " 'n_estimators': 100,\n",
       " 'n_jobs': None,\n",
       " 'oob_score': False,\n",
       " 'random_state': 222,\n",
       " 'verbose': 0,\n",
       " 'warm_start': False}"
      ]
     },
     "execution_count": 27,
     "metadata": {},
     "output_type": "execute_result"
    }
   ],
   "source": [
    "rf.get_params()"
   ]
  },
  {
   "cell_type": "code",
   "execution_count": 28,
   "metadata": {},
   "outputs": [
    {
     "name": "stdout",
     "output_type": "stream",
     "text": [
      "Fitting 3 folds for each of 18 candidates, totalling 54 fits\n"
     ]
    },
    {
     "name": "stderr",
     "output_type": "stream",
     "text": [
      "/data/anaconda3/lib/python3.8/site-packages/sklearn/model_selection/_search.py:278: UserWarning: The total space of parameters 18 is smaller than n_iter=100. Running 18 iterations. For exhaustive searches, use GridSearchCV.\n",
      "  warnings.warn(\n",
      "[Parallel(n_jobs=-1)]: Using backend LokyBackend with 8 concurrent workers.\n",
      "[Parallel(n_jobs=-1)]: Done  25 tasks      | elapsed: 51.7min\n",
      "/data/anaconda3/lib/python3.8/site-packages/joblib/externals/loky/process_executor.py:688: UserWarning: A worker stopped while some jobs were given to the executor. This can be caused by a too short worker timeout or by a memory leak.\n",
      "  warnings.warn(\n",
      "[Parallel(n_jobs=-1)]: Done  54 out of  54 | elapsed: 145.5min finished\n"
     ]
    },
    {
     "name": "stdout",
     "output_type": "stream",
     "text": [
      "Best Score:0.7604779486499114\n",
      "Best Parameters: {'n_estimators': 800, 'max_depth': 20, 'bootstrap': False}\n"
     ]
    }
   ],
   "source": [
    "param_grid = {'n_estimators': [400, 600, 800],\n",
    "              'max_depth': [10, 20, None],\n",
    "              'bootstrap': [True, False]}\n",
    "\n",
    "rf_cv = RandomizedSearchCV(estimator=rf, param_distributions=param_grid, n_iter = 100,\n",
    "                               scoring='roc_auc', cv = 3, verbose=2, n_jobs = -1, random_state=333)\n",
    "\n",
    "rf_cv.fit(X_train,y_train)\n",
    "\n",
    "print(\"Best Score:\" + str(rf_cv.best_score_))\n",
    "print(\"Best Parameters: \" + str(rf_cv.best_params_))"
   ]
  },
  {
   "cell_type": "code",
   "execution_count": null,
   "metadata": {},
   "outputs": [],
   "source": []
  },
  {
   "cell_type": "code",
   "execution_count": 30,
   "metadata": {},
   "outputs": [],
   "source": [
    "y_pred = rf_cv.predict(X_test)"
   ]
  },
  {
   "cell_type": "code",
   "execution_count": 31,
   "metadata": {},
   "outputs": [
    {
     "name": "stdout",
     "output_type": "stream",
     "text": [
      "              precision    recall  f1-score   support\n",
      "\n",
      "        RF 0       0.80      0.98      0.88     27856\n",
      "        RF 1       0.73      0.18      0.29      8452\n",
      "\n",
      "    accuracy                           0.79     36308\n",
      "   macro avg       0.76      0.58      0.58     36308\n",
      "weighted avg       0.78      0.79      0.74     36308\n",
      "\n"
     ]
    }
   ],
   "source": [
    "print(classification_report(y_test, y_pred, target_names=['RF 0','RF 1']))"
   ]
  },
  {
   "cell_type": "code",
   "execution_count": 32,
   "metadata": {},
   "outputs": [
    {
     "data": {
      "image/png": "[encoded data removed]",
      "text/plain": [
       "<Figure size 432x288 with 2 Axes>"
      ]
     },
     "metadata": {
      "needs_background": "light"
     },
     "output_type": "display_data"
    }
   ],
   "source": [
    "cm = confusion_matrix(y_test, y_pred)\n",
    "sns.heatmap(cm,annot=True,cmap='Blues');"
   ]
  },
  {
   "cell_type": "code",
   "execution_count": 33,
   "metadata": {},
   "outputs": [
    {
     "data": {
      "image/png": "[encoded data removed]",
      "text/plain": [
       "<Figure size 432x288 with 1 Axes>"
      ]
     },
     "metadata": {
      "needs_background": "light"
     },
     "output_type": "display_data"
    },
    {
     "name": "stdout",
     "output_type": "stream",
     "text": [
      "AUC= 0.76563\n",
      "ROC_AUC_SCORE= 0.76563\n"
     ]
    }
   ],
   "source": [
    "y_score = rf_cv.predict_proba(X_test)[:,1]\n",
    "\n",
    "false_positive_rate, true_positive_rate, threshold = roc_curve(y_test, y_score)\n",
    "\n",
    "# Plot ROC curve\n",
    "plt.title('ROC curve')\n",
    "plt.plot(false_positive_rate, true_positive_rate)\n",
    "plt.plot([0, 1], ls=\"--\")\n",
    "plt.plot([0, 0], [1, 0] , c=\".7\"), plt.plot([1, 1] , c=\".7\")\n",
    "plt.ylabel('True Positive Rate')\n",
    "plt.xlabel('False Positive Rate')\n",
    "plt.show()\n",
    "\n",
    "print('AUC=',round(auc(false_positive_rate, true_positive_rate),5))\n",
    "print('ROC_AUC_SCORE=',round(roc_auc_score(y_test, y_score,average = \"weighted\"),5))"
   ]
  },
  {
   "cell_type": "code",
   "execution_count": 34,
   "metadata": {},
   "outputs": [
    {
     "data": {
      "text/plain": [
       "{'mean_fit_time': array([ 391.23945991,  578.70087616,  750.45786985,  674.36204457,\n",
       "        1020.07592837, 1351.18583067,  853.77765155, 1260.93477488,\n",
       "        1611.00538898,  543.89652832,  783.46275465, 1073.24304708,\n",
       "        1052.60891032, 1568.13733943, 2180.18197282, 1328.57076216,\n",
       "        1796.11571487, 1902.35151752]),\n",
       " 'std_fit_time': array([  1.36085774,   2.07357402,  17.71970529,  19.02163862,\n",
       "         25.93038823,  22.15249473,  10.93420394,  39.92703098,\n",
       "          4.6971264 ,  16.57806858,   8.57950657,  22.97931321,\n",
       "          8.69967022,  26.20881267,  23.31782406,  12.50247367,\n",
       "         69.90021067, 135.23409329]),\n",
       " 'mean_score_time': array([ 7.03993177,  8.87971568, 11.61016568, 13.16636046, 25.14597503,\n",
       "        30.77641559, 18.57309214, 27.90620844, 33.57686083,  5.7944177 ,\n",
       "         8.84369516, 14.35767007, 23.12109637, 30.39391573, 44.52545333,\n",
       "        24.43280045, 22.92137178, 20.96172134]),\n",
       " 'std_score_time': array([0.83495259, 0.17892165, 0.26651688, 0.46724684, 1.9846218 ,\n",
       "        2.48366897, 3.16919519, 2.39939991, 1.04604539, 0.12422261,\n",
       "        0.10909972, 1.01496805, 4.69481784, 2.4020065 , 1.96687931,\n",
       "        2.33811014, 4.39557079, 0.41153083]),\n",
       " 'param_n_estimators': masked_array(data=[400, 600, 800, 400, 600, 800, 400, 600, 800, 400, 600,\n",
       "                    800, 400, 600, 800, 400, 600, 800],\n",
       "              mask=[False, False, False, False, False, False, False, False,\n",
       "                    False, False, False, False, False, False, False, False,\n",
       "                    False, False],\n",
       "        fill_value='?',\n",
       "             dtype=object),\n",
       " 'param_max_depth': masked_array(data=[10, 10, 10, 20, 20, 20, None, None, None, 10, 10, 10,\n",
       "                    20, 20, 20, None, None, None],\n",
       "              mask=[False, False, False, False, False, False, False, False,\n",
       "                    False, False, False, False, False, False, False, False,\n",
       "                    False, False],\n",
       "        fill_value='?',\n",
       "             dtype=object),\n",
       " 'param_bootstrap': masked_array(data=[True, True, True, True, True, True, True, True, True,\n",
       "                    False, False, False, False, False, False, False, False,\n",
       "                    False],\n",
       "              mask=[False, False, False, False, False, False, False, False,\n",
       "                    False, False, False, False, False, False, False, False,\n",
       "                    False, False],\n",
       "        fill_value='?',\n",
       "             dtype=object),\n",
       " 'params': [{'n_estimators': 400, 'max_depth': 10, 'bootstrap': True},\n",
       "  {'n_estimators': 600, 'max_depth': 10, 'bootstrap': True},\n",
       "  {'n_estimators': 800, 'max_depth': 10, 'bootstrap': True},\n",
       "  {'n_estimators': 400, 'max_depth': 20, 'bootstrap': True},\n",
       "  {'n_estimators': 600, 'max_depth': 20, 'bootstrap': True},\n",
       "  {'n_estimators': 800, 'max_depth': 20, 'bootstrap': True},\n",
       "  {'n_estimators': 400, 'max_depth': None, 'bootstrap': True},\n",
       "  {'n_estimators': 600, 'max_depth': None, 'bootstrap': True},\n",
       "  {'n_estimators': 800, 'max_depth': None, 'bootstrap': True},\n",
       "  {'n_estimators': 400, 'max_depth': 10, 'bootstrap': False},\n",
       "  {'n_estimators': 600, 'max_depth': 10, 'bootstrap': False},\n",
       "  {'n_estimators': 800, 'max_depth': 10, 'bootstrap': False},\n",
       "  {'n_estimators': 400, 'max_depth': 20, 'bootstrap': False},\n",
       "  {'n_estimators': 600, 'max_depth': 20, 'bootstrap': False},\n",
       "  {'n_estimators': 800, 'max_depth': 20, 'bootstrap': False},\n",
       "  {'n_estimators': 400, 'max_depth': None, 'bootstrap': False},\n",
       "  {'n_estimators': 600, 'max_depth': None, 'bootstrap': False},\n",
       "  {'n_estimators': 800, 'max_depth': None, 'bootstrap': False}],\n",
       " 'split0_test_score': array([0.74588481, 0.74594626, 0.74597546, 0.75504589, 0.75569808,\n",
       "        0.75600272, 0.75399767, 0.75499337, 0.75572575, 0.74707004,\n",
       "        0.74712936, 0.74716553, 0.75934612, 0.76018761, 0.76032917,\n",
       "        0.75806351, 0.75868144, 0.7588772 ]),\n",
       " 'split1_test_score': array([0.7452979 , 0.74553069, 0.74567807, 0.75257514, 0.75305911,\n",
       "        0.75365598, 0.75053024, 0.75152256, 0.75175953, 0.74737885,\n",
       "        0.74771882, 0.74764084, 0.7561746 , 0.75714841, 0.75736418,\n",
       "        0.75653065, 0.75639277, 0.7563649 ]),\n",
       " 'split2_test_score': array([0.7507958 , 0.75103928, 0.75111581, 0.75843104, 0.75883464,\n",
       "        0.75942171, 0.75733765, 0.75794786, 0.75811275, 0.75282986,\n",
       "        0.75286529, 0.7528561 , 0.76224773, 0.7633917 , 0.76374049,\n",
       "        0.76042563, 0.76112661, 0.76156964]),\n",
       " 'mean_test_score': array([0.74732617, 0.74750541, 0.74758978, 0.75535069, 0.75586395,\n",
       "        0.75636014, 0.75395519, 0.75482126, 0.75519934, 0.74909292,\n",
       "        0.74923782, 0.74922082, 0.75925615, 0.76024257, 0.76047795,\n",
       "        0.75833993, 0.75873361, 0.75893724]),\n",
       " 'std_test_score': array([0.00246507, 0.00250457, 0.00249624, 0.00240036, 0.00236076,\n",
       "        0.00236738, 0.00277928, 0.00262594, 0.00262026, 0.00264542,\n",
       "        0.00257627, 0.00257784, 0.00248016, 0.00254911, 0.00260524,\n",
       "        0.00160209, 0.00193294, 0.00212525]),\n",
       " 'rank_test_score': array([18, 17, 16,  9,  8,  7, 12, 11, 10, 15, 13, 14,  3,  2,  1,  6,  5,\n",
       "         4], dtype=int32)}"
      ]
     },
     "execution_count": 34,
     "metadata": {},
     "output_type": "execute_result"
    }
   ],
   "source": [
    "rf_cv.cv_results_"
   ]
  },
  {
   "cell_type": "code",
   "execution_count": null,
   "metadata": {},
   "outputs": [],
   "source": []
  },
  {
   "cell_type": "code",
   "execution_count": null,
   "metadata": {},
   "outputs": [],
   "source": []
  },
  {
   "cell_type": "code",
   "execution_count": null,
   "metadata": {},
   "outputs": [],
   "source": []
  },
  {
   "cell_type": "code",
   "execution_count": 35,
   "metadata": {},
   "outputs": [
    {
     "data": {
      "text/plain": [
       "(145232, 1402)"
      ]
     },
     "execution_count": 35,
     "metadata": {},
     "output_type": "execute_result"
    }
   ],
   "source": [
    "dti = dt_all.select_dtypes(include='int')\n",
    "dti = dti.drop(i1,axis=1)\n",
    "dti.shape"
   ]
  },
  {
   "cell_type": "code",
   "execution_count": 36,
   "metadata": {},
   "outputs": [
    {
     "data": {
      "text/plain": [
       "array([0.2961041 , 0.2874866 , 0.24310763, ..., 0.1241377 , 0.09973627,\n",
       "       0.10377138])"
      ]
     },
     "execution_count": 36,
     "metadata": {},
     "output_type": "execute_result"
    }
   ],
   "source": [
    "y_out = rf_cv.predict_proba(dti)[:,1]\n",
    "y_out"
   ]
  },
  {
   "cell_type": "code",
   "execution_count": 37,
   "metadata": {},
   "outputs": [
    {
     "data": {
      "text/html": [
       "<div>\n",
       "<style scoped>\n",
       "    .dataframe tbody tr th:only-of-type {\n",
       "        vertical-align: middle;\n",
       "    }\n",
       "\n",
       "    .dataframe tbody tr th {\n",
       "        vertical-align: top;\n",
       "    }\n",
       "\n",
       "    .dataframe thead th {\n",
       "        text-align: right;\n",
       "    }\n",
       "</style>\n",
       "<table border=\"1\" class=\"dataframe\">\n",
       "  <thead>\n",
       "    <tr style=\"text-align: right;\">\n",
       "      <th></th>\n",
       "      <th>ID</th>\n",
       "      <th>target</th>\n",
       "    </tr>\n",
       "  </thead>\n",
       "  <tbody>\n",
       "    <tr>\n",
       "      <th>0</th>\n",
       "      <td>1</td>\n",
       "      <td>0</td>\n",
       "    </tr>\n",
       "    <tr>\n",
       "      <th>1</th>\n",
       "      <td>3</td>\n",
       "      <td>0</td>\n",
       "    </tr>\n",
       "  </tbody>\n",
       "</table>\n",
       "</div>"
      ],
      "text/plain": [
       "   ID  target\n",
       "0   1       0\n",
       "1   3       0"
      ]
     },
     "execution_count": 37,
     "metadata": {},
     "output_type": "execute_result"
    }
   ],
   "source": [
    "fout = pd.read_csv('./sample_submission.csv')\n",
    "fout.head(2)"
   ]
  },
  {
   "cell_type": "code",
   "execution_count": 38,
   "metadata": {},
   "outputs": [],
   "source": [
    "fout.target = y_out\n",
    "fout.to_csv('submission-v0.csv', index=False)"
   ]
  },
  {
   "cell_type": "markdown",
   "metadata": {},
   "source": [
    "#### 3.4.1 Feature importance <a id='3.4.1_fi'></a>"
   ]
  },
  {
   "cell_type": "code",
   "execution_count": 39,
   "metadata": {},
   "outputs": [],
   "source": [
    "rf_feature_importance = pd.Series(rf_cv.best_estimator_.feature_importances_, index=X.columns)"
   ]
  },
  {
   "cell_type": "code",
   "execution_count": 57,
   "metadata": {},
   "outputs": [
    {
     "data": {
      "image/png": "[encoded data removed]",
      "text/plain": [
       "<Figure size 1440x360 with 1 Axes>"
      ]
     },
     "metadata": {
      "needs_background": "light"
     },
     "output_type": "display_data"
    }
   ],
   "source": [
    "rf_feature_importance.sort_values(ascending=False).plot(kind='bar',figsize=(20,5));"
   ]
  },
  {
   "cell_type": "code",
   "execution_count": null,
   "metadata": {},
   "outputs": [],
   "source": []
  },
  {
   "cell_type": "markdown",
   "metadata": {},
   "source": [
    "#### 3.4.2 PCA <a id='3.4.2_pca'></a>"
   ]
  },
  {
   "cell_type": "code",
   "execution_count": 41,
   "metadata": {},
   "outputs": [],
   "source": [
    "from sklearn.decomposition import PCA\n",
    "from sklearn.preprocessing import StandardScaler,MinMaxScaler"
   ]
  },
  {
   "cell_type": "code",
   "execution_count": 42,
   "metadata": {},
   "outputs": [],
   "source": [
    "scaler = StandardScaler()\n",
    "scaled_X = scaler.fit_transform(X)\n",
    "pca_scaled = PCA().fit(scaled_X)"
   ]
  },
  {
   "cell_type": "code",
   "execution_count": 58,
   "metadata": {},
   "outputs": [
    {
     "data": {
      "image/png": "[encoded data removed]",
      "text/plain": [
       "<Figure size 1440x360 with 1 Axes>"
      ]
     },
     "metadata": {
      "needs_background": "light"
     },
     "output_type": "display_data"
    }
   ],
   "source": [
    "plt.figure(figsize=(20, 5))\n",
    "\n",
    "n_comp = len(pca_scaled.explained_variance_ratio_)\n",
    "#n_comp = 320\n",
    "\n",
    "plt.plot(pca_scaled.explained_variance_ratio_[:n_comp].cumsum())\n",
    "#plt.plot(pca.explained_variance_ratio_[:n_comp])\n",
    "\n",
    "plt.xticks(np.arange(0, n_comp, 50))\n",
    "plt.yticks(np.arange(0, 1.05, 0.05))\n",
    "#plt.ylim((0.989,1.05))\n",
    "plt.ylim((0.,1.05))\n",
    "plt.grid()\n",
    "plt.xlabel('Component #, SCALED Standard',fontsize=16)\n",
    "plt.ylabel('Cumulative ratio variance',fontsize=16);"
   ]
  },
  {
   "cell_type": "code",
   "execution_count": 44,
   "metadata": {},
   "outputs": [],
   "source": [
    "scalerMM = MinMaxScaler()\n",
    "scaledMM_X = scalerMM.fit_transform(X)\n",
    "pca_scaledMM = PCA().fit(scaledMM_X)"
   ]
  },
  {
   "cell_type": "code",
   "execution_count": 59,
   "metadata": {},
   "outputs": [
    {
     "data": {
      "image/png": "[encoded data removed]",
      "text/plain": [
       "<Figure size 1440x360 with 1 Axes>"
      ]
     },
     "metadata": {
      "needs_background": "light"
     },
     "output_type": "display_data"
    }
   ],
   "source": [
    "plt.figure(figsize=(20, 5))\n",
    "\n",
    "n_comp = len(pca_scaledMM.explained_variance_ratio_)\n",
    "\n",
    "plt.plot(pca_scaledMM.explained_variance_ratio_[:n_comp].cumsum())\n",
    "\n",
    "plt.xticks(np.arange(0, n_comp, 50))\n",
    "plt.yticks(np.arange(0, 1.05, 0.05))\n",
    "\n",
    "plt.ylim((0.,1.05))\n",
    "plt.grid()\n",
    "plt.xlabel('Component #, SCALED MinMax',fontsize=16)\n",
    "plt.ylabel('Cumulative ratio variance',fontsize=16);"
   ]
  },
  {
   "cell_type": "markdown",
   "metadata": {},
   "source": [
    "### 3.6 XGBoost Classifier <a id='3.6_xgb'></a>"
   ]
  },
  {
   "cell_type": "code",
   "execution_count": 46,
   "metadata": {},
   "outputs": [],
   "source": [
    "#from xgboost import XGBClassifier\n",
    "#\n",
    "#xgb = XGBClassifier(objective=\"binary:logistic\", eval_metric=\"auc\",random_state=222)\n",
    "#xgb.get_params()"
   ]
  },
  {
   "cell_type": "code",
   "execution_count": 47,
   "metadata": {},
   "outputs": [],
   "source": [
    "#param_grid_xgb = {'n_estimators': [200, 400, 600, 800],\n",
    "#                  'max_depth': [5, 10, 20, None],\n",
    "#                  'eta': [0.03, 0.1,0.3],\n",
    "#                  'subsample':[0.7]}\n",
    "#\n",
    "#xgb_cv = RandomizedSearchCV(estimator=xgb, param_distributions=param_grid_xgb, n_iter = 100,\n",
    "#                               scoring='roc_auc', cv = 3, verbose=2, n_jobs = -1, random_state=333)\n",
    "#\n",
    "#xgb_cv.fit(X_train,y_train)\n",
    "#\n",
    "#print(\"Best Score:\" + str(xgb_cv.best_score_))\n",
    "#print(\"Best Parameters: \" + str(xgb_cv.best_params_))"
   ]
  },
  {
   "cell_type": "code",
   "execution_count": null,
   "metadata": {},
   "outputs": [],
   "source": []
  },
  {
   "cell_type": "markdown",
   "metadata": {},
   "source": [
    " ## 4. Numerical features / floats  <a id='#4_numerical_floats'></a>"
   ]
  },
  {
   "cell_type": "code",
   "execution_count": 111,
   "metadata": {},
   "outputs": [
    {
     "data": {
      "text/plain": [
       "(145231, 477)"
      ]
     },
     "execution_count": 111,
     "metadata": {},
     "output_type": "execute_result"
    }
   ],
   "source": [
    "dff = df_all.select_dtypes(include='float')\n",
    "dff.shape"
   ]
  },
  {
   "cell_type": "code",
   "execution_count": null,
   "metadata": {},
   "outputs": [],
   "source": []
  },
  {
   "cell_type": "code",
   "execution_count": null,
   "metadata": {},
   "outputs": [],
   "source": []
  },
  {
   "cell_type": "markdown",
   "metadata": {},
   "source": [
    "### 4.1 Missing values <a id='4.1_nulls'></a>"
   ]
  },
  {
   "cell_type": "code",
   "execution_count": 109,
   "metadata": {},
   "outputs": [
    {
     "data": {
      "image/png": "[encoded data removed]",
      "text/plain": [
       "<Figure size 720x216 with 2 Axes>"
      ]
     },
     "metadata": {
      "needs_background": "light"
     },
     "output_type": "display_data"
    }
   ],
   "source": [
    "# for columns - sum over rows\n",
    "# for rows - sum over columns\n",
    "c= dff.isna().sum(axis=0)/dff.shape[0]\n",
    "r= dff.isna().sum(axis=1)/dff.shape[1]\n",
    "\n",
    "fig, ax = plt.subplots(1,2,figsize=(10,3))\n",
    "\n",
    "ax[0].hist(c,bins=100) \n",
    "ax[1].hist(r,bins=100)\n",
    "\n",
    "fig.suptitle('Numerical features (floats)')\n",
    "ax[0].set_yscale('log'); ax[0].set_ylim((0.5,len(c)*10)); ax[0].set_xlabel('N. of null entries / row')\n",
    "ax[1].set_yscale('log'); ax[1].set_ylim((0.5,len(r)*10)); ax[1].set_xlabel('N. of null entries / column');"
   ]
  },
  {
   "cell_type": "code",
   "execution_count": null,
   "metadata": {},
   "outputs": [],
   "source": []
  },
  {
   "cell_type": "code",
   "execution_count": null,
   "metadata": {},
   "outputs": [],
   "source": []
  },
  {
   "cell_type": "code",
   "execution_count": 53,
   "metadata": {},
   "outputs": [
    {
     "data": {
      "image/png": "[encoded data removed]",
      "text/plain": [
       "<Figure size 720x360 with 2 Axes>"
      ]
     },
     "metadata": {
      "needs_background": "light"
     },
     "output_type": "display_data"
    }
   ],
   "source": [
    "from matplotlib import colors \n",
    "\n",
    "fig, ax = plt.subplots(figsize=(10,5))\n",
    "\n",
    "nu = dff.nunique()\n",
    "hist, bins= np.histogram(nu.ravel(), bins=100)\n",
    "logbins = np.logspace(np.log10(1),np.log10(bins[-1]),len(bins))\n",
    "#print(bins)\n",
    "#print(logbins)\n",
    "\n",
    "plt.hist2d(c.ravel(),nu.ravel(),bins=(50,logbins),norm = colors.LogNorm())\n",
    "plt.yscale('log')\n",
    "plt.colorbar();\n",
    "plt.title('Numerical columns (float)')\n",
    "plt.xlabel('Fraction of empty fields')\n",
    "plt.ylabel('Number of unique values');"
   ]
  },
  {
   "cell_type": "code",
   "execution_count": null,
   "metadata": {},
   "outputs": [],
   "source": []
  },
  {
   "cell_type": "code",
   "execution_count": 54,
   "metadata": {},
   "outputs": [],
   "source": []
  },
  {
   "cell_type": "code",
   "execution_count": 60,
   "metadata": {},
   "outputs": [
    {
     "data": {
      "image/png": "[encoded data removed]",
      "text/plain": [
       "<Figure size 1440x360 with 2 Axes>"
      ]
     },
     "metadata": {
      "needs_background": "light"
     },
     "output_type": "display_data"
    }
   ],
   "source": [
    "fig, ax = plt.subplots(1,2,figsize=(20,5))\n",
    "\n",
    "cols = dff.columns\n",
    "\n",
    "mask = df_all['target'] == 1\n",
    "dff0 = dff[cols][~mask]\n",
    "dff1 = dff[cols][mask]\n",
    "\n",
    "c0= dff0.isna().sum(axis=0)/dff0.shape[0]\n",
    "c1= dff1.isna().sum(axis=0)/dff1.shape[0]\n",
    "\n",
    "r0= dff0.isna().sum(axis=1)/dff0.shape[1]\n",
    "r1= dff1.isna().sum(axis=1)/dff1.shape[1]\n",
    "\n",
    "ax[0].hist(c0,bins=50,range=(0.,1.),alpha=0.5,log=True,label=\"target=0\")\n",
    "ax[0].hist(c1,bins=50,range=(0.,1.),alpha=0.5,log=True,label=\"target=1\")\n",
    "\n",
    "ax[1].hist(r0,bins=50,range=(0.,1.),alpha=0.5,log=True,label=\"target=0\")\n",
    "ax[1].hist(r1,bins=50,range=(0.,1.),alpha=0.5,log=True,label=\"target=1\")\n",
    "\n",
    "ax[0].set_xlabel('Fraction of empty fields / column',fontsize=16)\n",
    "ax[1].set_xlabel('Fraction of empty fields / row',fontsize=16)\n",
    "\n",
    "plt.legend(loc='best',fontsize=14)\n",
    "plt.show();"
   ]
  },
  {
   "cell_type": "code",
   "execution_count": null,
   "metadata": {},
   "outputs": [],
   "source": []
  },
  {
   "cell_type": "code",
   "execution_count": 61,
   "metadata": {},
   "outputs": [
    {
     "data": {
      "text/plain": [
       "VAR_0074    4565\n",
       "VAR_0209    1109\n",
       "VAR_0205     751\n",
       "VAR_0206     504\n",
       "VAR_0211     393\n",
       "VAR_0210     393\n",
       "VAR_0208     393\n",
       "VAR_0840       1\n",
       "VAR_0213       1\n",
       "VAR_0207       1\n",
       "dtype: int64"
      ]
     },
     "execution_count": 61,
     "metadata": {},
     "output_type": "execute_result"
    }
   ],
   "source": [
    "sn = dff[cols[c>0.6]].nunique(dropna=False).sort_values(ascending=False)\n",
    "sn"
   ]
  },
  {
   "cell_type": "code",
   "execution_count": 62,
   "metadata": {},
   "outputs": [
    {
     "name": "stdout",
     "output_type": "stream",
     "text": [
      "VAR_0074 [  nan 5208. 2487. ... 6820. 6234. 3944.]\n",
      "VAR_0209 [  nan  583.  492. ... 1144. 1058.  311.]\n",
      "VAR_0205 [ nan  58. 303.  38. 151. 772.  23. 710. 258. 178. 649. 601. 473.  24.\n",
      " 322.   7. 643. 502. 121. 489. 265. 217. 233. 338. 119. 187. 429. 412.\n",
      " 496. 287. 583. 165. 259. 517. 663. 189. 110. 373. 192. 427. 668. 811.\n",
      " 654. 740. 684. 563. 635. 747. 317. 249. 105. 278. 560. 154. 503. 633.\n",
      " 628. 218. 531. 475. 598. 603. 346. 253. 602. 698. 656. 302. 274. 354.\n",
      " 463. 363. 500.  62. 430. 528. 711. 380. 725.  96. 286. 650.  97. 209.\n",
      "  82. 331. 453. 404. 832. 141. 585. 578. 671. 479. 600. 617. 260. 263.\n",
      " 242. 318. 536. 632. 753. 310. 252. 519. 661. 172. 526. 342. 559. 238.\n",
      " 738. 396. 513. 155. 146.  74. 213.  60.  93. 535. 596. 425. 157. 652.\n",
      " 541. 521. 332. 692. 343. 261.  75. 174. 606. 236. 307. 653.  89. 618.\n",
      " 334. 269. 114.  76. 678. 741. 300. 817. 534. 728. 207. 577. 118.  91.\n",
      " 271. 316. 507. 244.  78. 197. 616. 676. 356. 275. 497. 482. 639. 546.\n",
      " 264.  54.  41. 272. 836. 371. 361. 533. 159. 690. 163. 440. 794.  16.\n",
      " 176. 627. 694. 191. 162. 664. 587.  53. 277.  59. 145. 204. 657. 193.\n",
      " 314. 257. 180. 254. 499. 792. 250. 136. 184. 640. 631. 731. 243. 282.\n",
      " 301. 188. 721. 142. 679. 443. 834. 672. 273. 547.  31. 767. 629. 421.\n",
      " 493. 492. 557. 822. 766.  50. 372. 239.  83. 284. 279. 674. 408. 445.\n",
      "  95. 424. 800. 708. 106. 190. 647. 280. 468. 111. 579. 406. 245. 515.\n",
      "  52. 554. 158.  77.  90.  72. 222. 370. 246. 211. 422. 362.   5.  66.\n",
      " 748. 835. 588. 435. 821. 134. 638. 135. 520. 506. 205. 700. 472. 471.\n",
      " 374. 409. 169. 125.  29. 182. 609. 419. 127. 407. 349. 418. 160.  86.\n",
      " 450. 138. 175. 739. 400. 841.  13.   1. 677. 323. 504. 552. 844. 572.\n",
      "  26. 216.   4. 691. 308. 196. 327. 594. 527. 214. 195. 681. 667. 501.\n",
      " 377. 376. 645.  40. 637. 164. 401. 215.  14. 802. 490. 478. 801. 545.\n",
      " 267. 751. 584. 381. 659. 411. 329. 620. 201. 112. 687.  11. 726. 467.\n",
      " 646. 540. 607. 452. 630. 862.  69. 113. 181. 917. 358. 448. 166. 336.\n",
      " 255. 538. 562. 544. 321. 727. 581. 199. 337. 786. 100. 568. 152. 137.\n",
      " 590. 481. 340. 438. 460. 247. 847.  70. 131. 693. 765. 823. 666. 305.\n",
      " 644. 707. 843. 129. 518. 812. 348. 514. 387. 582. 505.  68. 569. 231.\n",
      " 744. 732. 539. 673. 123. 477. 589. 132. 827. 626. 171. 455. 566. 816.\n",
      " 285. 256. 669. 198. 416. 576. 516. 675. 749. 485. 140.  32. 856. 614.\n",
      " 611. 511. 682.  71. 454. 597. 686. 595. 814. 716.  15. 549. 622. 619.\n",
      " 464.  10. 735. 360. 742. 200. 126. 103. 953. 281. 248. 392. 480.  51.\n",
      " 483.  84. 565. 183.  21. 225. 335. 385. 156. 359. 120. 610. 109. 680.\n",
      " 537. 714. 662. 857. 548. 512. 426. 762. 592. 210.  37. 553. 522. 864.\n",
      " 378. 208. 433.  18. 495. 734. 147. 570. 186. 712.  48. 325. 309. 813.\n",
      "  57. 364. 651. 173. 745. 604. 775.  33. 658. 462.  92. 752. 508. 251.\n",
      " 203.  47. 491. 393. 470. 330. 235. 660. 456. 524. 574. 352. 320. 315.\n",
      " 615.  12. 737. 148. 688. 413. 820. 689. 365. 447. 104. 167. 550. 442.\n",
      " 542. 122.  35. 760. 488. 852. 685. 220. 441. 591. 729. 773. 795. 634.\n",
      "  34. 298.   6. 367. 124. 194. 431. 655. 593. 375.  98. 586. 750. 683.\n",
      " 312. 133. 532. 573. 828. 451. 523. 230. 177. 350. 722. 665. 804. 759.\n",
      " 206. 168. 403. 107. 486. 556. 465. 117. 761. 384. 116. 551. 395. 459.\n",
      " 808. 642. 845. 326. 394. 153. 390. 789. 575. 484. 525. 621. 770. 414.\n",
      " 266. 612. 223. 232. 803. 369. 202. 510. 564. 357. 417. 397.  63. 561.\n",
      " 383. 449.  87.  42.  39. 718. 268. 608. 476. 299. 787. 328. 819. 276.\n",
      " 432. 101.  30. 719. 386. 623. 730. 720. 161. 399. 641. 498. 790. 702.\n",
      " 793. 420. 494. 829. 398. 768. 227. 529. 368.  45. 717.  65. 873. 788.\n",
      " 867. 555. 185. 139. 466. 347. 840.  43. 229.  20.  36. 599. 458. 221.\n",
      " 769. 388.   8. 150. 237. 780. 366. 345. 149. 212. 306. 391. 699. 240.\n",
      " 785.  94. 487. 870. 558. 746. 613. 144.  79. 437. 757. 705. 782. 625.\n",
      " 771. 444. 636. 379.  49. 457. 461. 108.  73. 530.  56. 624. 776. 567.\n",
      " 818. 344. 115. 228. 791. 580. 833.   3. 402. 224. 355.  55.  19. 713.\n",
      " 382. 709. 436. 341. 179. 755. 415. 319. 304.]\n",
      "VAR_0206 [ nan 597. 707. 869. 762. 393. 671. 779. 383. 370. 614. 697. 550. 661.\n",
      " 587. 819. 552. 511. 377. 385. 727. 795. 616. 379. 594. 636. 575. 366.\n",
      " 427. 690. 812. 744. 492. 623. 686. 750. 752. 442. 472. 548. 790. 607.\n",
      " 801. 639. 640. 629. 723. 388. 617. 415. 766. 656. 611. 868. 675. 537.\n",
      " 549. 391. 736. 748. 422. 737. 684. 529. 654. 747. 843. 414. 560. 608.\n",
      " 726. 756. 481. 741. 580. 590. 404. 581. 834. 584. 632. 485. 713. 454.\n",
      " 796. 720. 677. 603. 538. 638. 905. 513. 628. 498. 645. 667. 712. 866.\n",
      " 428. 753. 679. 392. 408. 693. 542. 760. 674. 450. 621. 569. 452. 694.\n",
      " 394. 397. 634. 732. 437. 695. 708. 755. 555. 818. 541. 740. 666. 668.\n",
      " 508. 460. 728. 372. 362. 715. 669. 683. 531. 681. 559. 630. 622. 378.\n",
      " 787. 539. 519. 565. 642. 657. 665. 604. 659. 563. 653. 721. 504. 558.\n",
      " 624. 761. 626. 436. 592. 387. 510. 672. 644. 567. 676. 855. 469. 633.\n",
      " 831. 376. 722. 655. 574. 739. 400. 673. 637. 512. 702. 689. 658. 902.\n",
      " 571. 701. 418. 706. 406. 749. 692. 716. 733. 430. 374. 662. 534. 840.\n",
      " 711. 591. 772. 823. 501. 528. 767. 384. 649. 441. 593. 682. 554. 568.\n",
      " 421. 509. 455. 754. 405. 561. 719. 416. 685. 696. 805. 402. 497. 714.\n",
      " 411. 871. 551. 417. 691. 445. 395. 729. 576. 564. 570. 595. 678. 482.\n",
      " 784. 700. 746. 602. 841. 743. 830. 827. 793. 861. 493. 709. 505. 768.\n",
      " 371. 444. 516. 821. 480. 412. 724. 599. 730. 456. 435. 688. 585. 600.\n",
      " 781. 751. 582. 742. 407. 833. 535. 586. 573. 562. 699. 478. 606. 731.\n",
      " 800. 651. 809. 780. 483. 845. 807. 865. 520. 443. 446. 738. 826. 503.\n",
      " 771. 545. 420. 687. 648. 863. 816. 432. 556. 759. 487. 439. 474. 773.\n",
      " 399. 792. 468. 363. 631. 486. 854. 848. 835. 578. 601. 424. 704. 381.\n",
      " 829. 369. 643. 433. 536. 849. 887. 698. 625. 515. 547. 553. 588. 579.\n",
      " 525. 817. 745. 566. 757. 832. 810. 596. 627. 705. 382. 769. 459. 475.\n",
      " 500. 543. 735. 786. 583. 491. 598. 808. 506. 419. 758. 589. 502. 390.\n",
      " 403. 524. 470. 361. 517. 577. 484. 609. 828. 523. 858. 494. 663. 605.\n",
      " 664. 495. 546. 680. 365. 396. 646. 434. 875. 847. 717. 490. 811. 364.\n",
      " 429. 373. 477. 710. 660. 853. 476. 635. 464. 544. 540. 440. 398. 852.\n",
      " 522. 413. 527. 842. 815. 521. 777. 453. 426. 650. 532. 734. 806. 514.\n",
      " 778. 820. 526. 425. 670. 610. 410. 825. 518. 652. 764. 447. 798. 791.\n",
      " 438. 799. 770. 431. 368. 870. 471. 641. 619. 813. 794. 844. 618. 620.\n",
      " 776. 824. 401. 837. 647. 860. 557. 703. 462. 389. 788. 612. 448. 615.\n",
      " 774. 856. 488. 803. 533. 864. 878. 613. 489. 718. 367. 797. 836. 789.\n",
      " 881. 913. 802. 572. 838. 846. 458. 375. 457. 785. 496. 380. 880. 859.\n",
      " 449. 883. 423. 783. 725. 467. 507. 890. 892. 409. 765. 451. 862. 873.]\n",
      "VAR_0211 [ nan 146.  47.  33.  78. 194. 293. 126. 180.   7.  52.  10.  54. 282.\n",
      "  71.  34. 169. 154. 241.  27.   8.  11. 106.  19.  21.  37. 129.  42.\n",
      " 168.  44.   4. 286. 182.  40.  17.  12.  86. 149.   3. 204.   9. 309.\n",
      " 197. 289. 326.  46. 221.  45. 115.  28. 222. 159.  31. 198. 285.  65.\n",
      "  50. 175.  75. 141. 119. 311.  57.  16.  49.  20.   5.   6. 254. 328.\n",
      " 330.  55. 103.   1.  92.  63.  69. 217.  23.  95. 263. 218. 164.  18.\n",
      " 110.  39. 188. 274.  26.  29. 101. 327. 287. 273. 300. 279.  74.  64.\n",
      " 185.  91.  73.  58. 139.  56. 257.  51. 187. 134.  62.  38.  32.  81.\n",
      " 284. 280.  53. 170.  99. 219. 210. 225.  30. 179. 109.  15.  14. 189.\n",
      " 148. 270. 178. 216.  60.  43.  13. 207. 251. 304. 206. 269. 203. 201.\n",
      " 147.   2. 143. 238.  97.  72. 153. 157. 156. 107. 114. 245. 315. 305.\n",
      " 104.  89. 174. 151. 229. 227.  76.  25. 137.  35.  87. 113. 320. 176.\n",
      " 205. 334. 173. 211. 235. 102.  59. 370.  90. 215. 323. 362. 195. 200.\n",
      " 160. 233. 135. 152. 322. 138.  93. 260. 132. 237.  61.  94. 272. 290.\n",
      " 281. 158. 183. 125. 301.  77.  48. 283. 224.  24.  22. 100. 335. 136.\n",
      " 112. 212.   0. 239.  70. 161. 267. 202. 191. 208. 253.  83. 128. 259.\n",
      " 265. 302.  82.  66. 120.  96.  68.  79. 278. 124. 333. 150. 117. 341.\n",
      " 193. 379. 356. 295. 142. 294. 171. 303. 209. 276. 144. 140.  85. 275.\n",
      " 213. 165. 130. 308. 190. 252. 249.  84.  98. 177.  41. 264. 271. 118.\n",
      " 127. 347. 296. 242. 167. 166. 199.  80. 332. 196. 184. 111. 352. 247.\n",
      " 181. 223. 220. 342. 116. 108. 321.  36. 122. 243. 133. 340. 231. 312.\n",
      "  88. 172. 297. 343. 123. 337. 292. 360. 228. 385. 163. 234. 355. 350.\n",
      " 256. 131. 192. 145. 364. 230. 105. 155. 288. 357. 319. 244. 214. 344.\n",
      " 336. 258. 121. 162. 236. 248. 366. 186.  67. 266. 307. 268. 240. 277.\n",
      " 358. 349. 250. 261. 246. 377. 371. 391. 226. 388. 372. 262. 299. 314.\n",
      " 316. 367. 232. 338. 369. 325. 346. 365. 291. 313. 359. 317. 345. 331.\n",
      " 384. 368. 348. 324. 375. 298. 329. 255. 310. 353. 376. 306. 386. 373.\n",
      " 361. 354. 318. 351. 363. 339. 374. 378. 390. 380. 392. 382. 393. 387.\n",
      " 381.]\n",
      "VAR_0210 [ nan 146.  47.  33.  78. 194. 293. 126. 180.   7.  52.  10.  54. 282.\n",
      "  71.  34. 169. 154. 241.  27.   8.  11. 106.  19.  21.  37. 129.  42.\n",
      " 168.  44.   4. 286. 182.  40.  17.  12.  86. 149.   3. 204.   9. 309.\n",
      " 197. 289. 326.  46. 221.  45. 115.  28. 222. 159.  31. 198. 285.  65.\n",
      "  50. 175.  75. 141. 119. 311.  57.  16.  49.  20.   5.   6. 254. 328.\n",
      " 330.  55. 103.   1.  92.  63.  69. 217.  23.  95. 263. 218. 164.  18.\n",
      " 110.  39. 188. 274.  26.  29. 101. 327. 287. 273. 300. 279.  74.  64.\n",
      " 185.  91.  73.  58. 139.  56. 257.  51. 187. 134.  62.  38.  32.  81.\n",
      " 284. 280.  53. 170.  99. 219. 210. 225.  30. 179. 109.  15.  14. 189.\n",
      " 148. 270. 178. 216.  60.  43.  13. 207. 251. 304. 206. 269. 203. 201.\n",
      " 147.   2. 143. 238.  97.  72. 153. 157. 156. 107. 114. 245. 315. 305.\n",
      " 104.  89. 174. 151. 229. 227.  76.  25. 137.  35.  87. 113. 320. 176.\n",
      " 205. 334. 173. 211. 235. 102.  59. 370.  90. 215. 323. 362. 195. 200.\n",
      " 160. 233. 135. 152. 322. 138.  93. 260. 132. 237.  61.  94. 272. 290.\n",
      " 281. 158. 183. 125. 301.  77.  48. 283. 224.  24.  22. 100. 335. 136.\n",
      " 112. 212.   0. 239.  70. 161. 267. 202. 191. 208. 253.  83. 128. 259.\n",
      " 265. 302.  82.  66. 120.  96.  68.  79. 278. 124. 333. 150. 117. 341.\n",
      " 193. 379. 356. 295. 142. 294. 171. 303. 209. 276. 144. 140.  85. 275.\n",
      " 213. 165. 130. 308. 190. 252. 249.  84.  98. 177.  41. 264. 271. 118.\n",
      " 127. 347. 296. 242. 167. 166. 199.  80. 332. 196. 184. 111. 352. 247.\n",
      " 181. 223. 220. 342. 116. 108. 321.  36. 122. 243. 133. 340. 231. 312.\n",
      "  88. 172. 297. 343. 123. 337. 292. 360. 228. 385. 163. 234. 355. 350.\n",
      " 256. 131. 192. 145. 364. 230. 105. 155. 288. 357. 319. 244. 214. 344.\n",
      " 336. 258. 121. 162. 236. 248. 366. 186.  67. 266. 307. 268. 240. 277.\n",
      " 358. 349. 250. 261. 246. 377. 371. 391. 226. 388. 372. 262. 299. 314.\n",
      " 316. 367. 232. 338. 369. 325. 346. 365. 291. 313. 359. 317. 345. 331.\n",
      " 384. 368. 348. 324. 375. 298. 329. 255. 310. 353. 376. 306. 386. 373.\n",
      " 361. 354. 318. 351. 363. 339. 374. 378. 390. 380. 392. 382. 393. 387.\n",
      " 381.]\n",
      "VAR_0208 [ nan 146.  47.  33.  78. 194. 293. 126. 180.   7.  52.  10.  54. 282.\n",
      "  71.  34. 169. 154. 241.  27.   8.  11. 106.  19.  21.  37. 129.  42.\n",
      " 168.  44.   4. 286. 182.  40.  17.  12.  86. 149.   3. 204.   9. 309.\n",
      " 197. 289. 326.  46. 221.  45. 115.  28. 222. 159.  31. 198. 285.  65.\n",
      "  50. 175.  75. 141. 119. 311.  57.  16.  49.  20.   5.   6. 254. 328.\n",
      " 330.  55. 103.   1.  92.  63.  69. 217.  23.  95. 263. 218. 164.  18.\n",
      " 110.  39. 188. 274.  26.  29. 101. 327. 287. 273. 300. 279.  74.  64.\n",
      " 185.  91.  73.  58. 139.  56. 257.  51. 187. 134.  62.  38.  32.  81.\n",
      " 284. 280.  53. 170.  99. 219. 210. 225.  30. 179. 109.  15.  14. 189.\n",
      " 148. 270. 178. 216.  60.  43.  13. 207. 251. 304. 206. 269. 203. 201.\n",
      " 147.   2. 143. 238.  97.  72. 153. 157. 156. 107. 114. 245. 315. 305.\n",
      " 104.  89. 174. 151. 229. 227.  76.  25. 137.  35.  87. 113. 320. 176.\n",
      " 205. 334. 173. 211. 235. 102.  59. 370.  90. 215. 323. 362. 195. 200.\n",
      " 160. 233. 135. 152. 322. 138.  93. 260. 132. 237.  61.  94. 272. 290.\n",
      " 281. 158. 183. 125. 301.  77.  48. 283. 224.  24.  22. 100. 335. 136.\n",
      " 112. 212.   0. 239.  70. 161. 267. 202. 191. 208. 253.  83. 128. 259.\n",
      " 265. 302.  82.  66. 120.  96.  68.  79. 278. 124. 333. 150. 117. 341.\n",
      " 193. 379. 356. 295. 142. 294. 171. 303. 209. 276. 144. 140.  85. 275.\n",
      " 213. 165. 130. 308. 190. 252. 249.  84.  98. 177.  41. 264. 271. 118.\n",
      " 127. 347. 296. 242. 167. 166. 199.  80. 332. 196. 184. 111. 352. 247.\n",
      " 181. 223. 220. 342. 116. 108. 321.  36. 122. 243. 133. 340. 231. 312.\n",
      "  88. 172. 297. 343. 123. 337. 292. 360. 228. 385. 163. 234. 355. 350.\n",
      " 256. 131. 192. 145. 364. 230. 105. 155. 288. 357. 319. 244. 214. 344.\n",
      " 336. 258. 121. 162. 236. 248. 366. 186.  67. 266. 307. 268. 240. 277.\n",
      " 358. 349. 250. 261. 246. 377. 371. 391. 226. 388. 372. 262. 299. 314.\n",
      " 316. 367. 232. 338. 369. 325. 346. 365. 291. 313. 359. 317. 345. 331.\n",
      " 384. 368. 348. 324. 375. 298. 329. 255. 310. 353. 376. 306. 386. 373.\n",
      " 361. 354. 318. 351. 363. 339. 374. 378. 390. 380. 392. 382. 393. 387.\n",
      " 381.]\n",
      "VAR_0840 [nan]\n",
      "VAR_0213 [nan]\n",
      "VAR_0207 [nan]\n"
     ]
    }
   ],
   "source": [
    "for ecol in sn.index:\n",
    "    print(ecol,dff[ecol].unique())"
   ]
  },
  {
   "cell_type": "code",
   "execution_count": null,
   "metadata": {},
   "outputs": [],
   "source": []
  },
  {
   "cell_type": "markdown",
   "metadata": {},
   "source": [
    "### 4.2 Unique values <a id='4.2_uniques'></a>"
   ]
  },
  {
   "cell_type": "code",
   "execution_count": 64,
   "metadata": {},
   "outputs": [],
   "source": [
    "nuni = []\n",
    "nuni_dic = {}\n",
    "\n",
    "#for col in df.select_dtypes(include='float').columns:\n",
    "for col in dff.columns:\n",
    "\n",
    "    nuni.append(dff[col].nunique(dropna=False))\n",
    "    nuni_dic[col] = dff[col].nunique(dropna=False)"
   ]
  },
  {
   "cell_type": "code",
   "execution_count": 65,
   "metadata": {},
   "outputs": [
    {
     "data": {
      "image/png": "[encoded data removed]",
      "text/plain": [
       "<Figure size 720x360 with 1 Axes>"
      ]
     },
     "metadata": {
      "needs_background": "light"
     },
     "output_type": "display_data"
    }
   ],
   "source": [
    "plt.figure(figsize=(10,5))\n",
    "\n",
    "hist, bins= np.histogram(nuni, bins=100)\n",
    "logbins = np.logspace(np.log10(1),np.log10(bins[-1]),len(bins))\n",
    "\n",
    "plt.hist(nuni, bins=logbins)\n",
    "plt.xscale('log')\n",
    "plt.xticks(fontsize=16)\n",
    "plt.yticks(fontsize=16)\n",
    "plt.title(\"Unique values per feature (floats)\",fontsize=15)\n",
    "plt.xlabel(\"Number of feature's unique values\",fontsize=15)\n",
    "plt.ylabel(\"Number of features\",fontsize=15)\n",
    "plt.show()"
   ]
  },
  {
   "cell_type": "code",
   "execution_count": null,
   "metadata": {},
   "outputs": [],
   "source": []
  },
  {
   "cell_type": "code",
   "execution_count": 66,
   "metadata": {},
   "outputs": [],
   "source": [
    "i1 = []\n",
    "i2 = []\n",
    "i3 = []\n",
    "i4 = []\n",
    "i5 = []\n",
    "i6 = []\n",
    "\n",
    "for k,v in nuni_dic.items():\n",
    "    \n",
    "    if(v==1):    i1.append(k)\n",
    "    elif (v==2): i2.append(k)\n",
    "    elif (v==3): i3.append(k)\n",
    "    elif (v==4): i4.append(k)\n",
    "    elif (v==5): i5.append(k)  \n",
    "    elif (v==6): i6.append(k)"
   ]
  },
  {
   "cell_type": "code",
   "execution_count": 67,
   "metadata": {},
   "outputs": [
    {
     "name": "stdout",
     "output_type": "stream",
     "text": [
      "NaN    145231\n",
      "Name: VAR_0207, dtype: int64 \n",
      " ---\n",
      "NaN    145231\n",
      "Name: VAR_0213, dtype: int64 \n",
      " ---\n",
      "NaN    145231\n",
      "Name: VAR_0840, dtype: int64 \n",
      " ---\n"
     ]
    }
   ],
   "source": [
    "for v in i1:\n",
    "    print(dff[v].value_counts(dropna=False),'\\n ---')"
   ]
  },
  {
   "cell_type": "code",
   "execution_count": 68,
   "metadata": {},
   "outputs": [
    {
     "name": "stdout",
     "output_type": "stream",
     "text": [
      "0.0    145175\n",
      "NaN        56\n",
      "Name: VAR_0018, dtype: int64 \n",
      " ---\n",
      "0.0    145175\n",
      "NaN        56\n",
      "Name: VAR_0019, dtype: int64 \n",
      " ---\n",
      "0.0    145175\n",
      "NaN        56\n",
      "Name: VAR_0020, dtype: int64 \n",
      " ---\n",
      "0.0    145175\n",
      "NaN        56\n",
      "Name: VAR_0021, dtype: int64 \n",
      " ---\n",
      "0.0    145175\n",
      "NaN        56\n",
      "Name: VAR_0022, dtype: int64 \n",
      " ---\n",
      "0.0    145175\n",
      "NaN        56\n",
      "Name: VAR_0023, dtype: int64 \n",
      " ---\n",
      "0.0    145175\n",
      "NaN        56\n",
      "Name: VAR_0024, dtype: int64 \n",
      " ---\n",
      "0.0    145175\n",
      "NaN        56\n",
      "Name: VAR_0025, dtype: int64 \n",
      " ---\n",
      "0.0    145175\n",
      "NaN        56\n",
      "Name: VAR_0026, dtype: int64 \n",
      " ---\n",
      "0.0    145175\n",
      "NaN        56\n",
      "Name: VAR_0027, dtype: int64 \n",
      " ---\n",
      "0.0    145175\n",
      "NaN        56\n",
      "Name: VAR_0028, dtype: int64 \n",
      " ---\n",
      "0.0    145175\n",
      "NaN        56\n",
      "Name: VAR_0029, dtype: int64 \n",
      " ---\n",
      "0.0    145175\n",
      "NaN        56\n",
      "Name: VAR_0030, dtype: int64 \n",
      " ---\n",
      "0.0    145175\n",
      "NaN        56\n",
      "Name: VAR_0031, dtype: int64 \n",
      " ---\n",
      "0.0    145175\n",
      "NaN        56\n",
      "Name: VAR_0032, dtype: int64 \n",
      " ---\n",
      "0.0    145175\n",
      "NaN        56\n",
      "Name: VAR_0038, dtype: int64 \n",
      " ---\n",
      "0.0    145175\n",
      "NaN        56\n",
      "Name: VAR_0039, dtype: int64 \n",
      " ---\n",
      "0.0    145175\n",
      "NaN        56\n",
      "Name: VAR_0040, dtype: int64 \n",
      " ---\n",
      "0.0    145175\n",
      "NaN        56\n",
      "Name: VAR_0041, dtype: int64 \n",
      " ---\n",
      "0.0    145175\n",
      "NaN        56\n",
      "Name: VAR_0042, dtype: int64 \n",
      " ---\n",
      "0.0    145142\n",
      "NaN        89\n",
      "Name: VAR_0188, dtype: int64 \n",
      " ---\n",
      "0.0    145142\n",
      "NaN        89\n",
      "Name: VAR_0189, dtype: int64 \n",
      " ---\n",
      "0.0    145142\n",
      "NaN        89\n",
      "Name: VAR_0190, dtype: int64 \n",
      " ---\n",
      "201.0    145175\n",
      "NaN          56\n",
      "Name: VAR_0197, dtype: int64 \n",
      " ---\n",
      "0.0    145175\n",
      "NaN        56\n",
      "Name: VAR_0199, dtype: int64 \n",
      " ---\n",
      "1.0    145175\n",
      "NaN        56\n",
      "Name: VAR_0203, dtype: int64 \n",
      " ---\n",
      "101.0    145175\n",
      "NaN          56\n",
      "Name: VAR_0215, dtype: int64 \n",
      " ---\n",
      "0.0    145175\n",
      "NaN        56\n",
      "Name: VAR_0221, dtype: int64 \n",
      " ---\n",
      "2471.0    145175\n",
      "NaN           56\n",
      "Name: VAR_0223, dtype: int64 \n",
      " ---\n",
      "-1.0    144313\n",
      " NaN       918\n",
      "Name: VAR_0246, dtype: int64 \n",
      " ---\n",
      "0.0    144313\n",
      "NaN       918\n",
      "Name: VAR_0394, dtype: int64 \n",
      " ---\n",
      "0.0    144313\n",
      "NaN       918\n",
      "Name: VAR_0438, dtype: int64 \n",
      " ---\n",
      "0.0    144313\n",
      "NaN       918\n",
      "Name: VAR_0446, dtype: int64 \n",
      " ---\n",
      "0.0    144313\n",
      "NaN       918\n",
      "Name: VAR_0527, dtype: int64 \n",
      " ---\n",
      "0.0    144313\n",
      "NaN       918\n",
      "Name: VAR_0528, dtype: int64 \n",
      " ---\n",
      "-1.0    144313\n",
      " NaN       918\n",
      "Name: VAR_0530, dtype: int64 \n",
      " ---\n"
     ]
    }
   ],
   "source": [
    "for v in i2:\n",
    "    print(dff[v].value_counts(dropna=False),'\\n ---')"
   ]
  },
  {
   "cell_type": "code",
   "execution_count": 69,
   "metadata": {},
   "outputs": [
    {
     "name": "stdout",
     "output_type": "stream",
     "text": [
      "0.0    145121\n",
      "NaN        91\n",
      "1.0        19\n",
      "Name: VAR_0098, dtype: int64 \n",
      " ---\n",
      "0.0    145136\n",
      "NaN        91\n",
      "1.0         4\n",
      "Name: VAR_0106, dtype: int64 \n",
      " ---\n",
      "0.0    145118\n",
      "NaN        91\n",
      "1.0        22\n",
      "Name: VAR_0114, dtype: int64 \n",
      " ---\n",
      "0.0    145119\n",
      "NaN        91\n",
      "1.0        21\n",
      "Name: VAR_0130, dtype: int64 \n",
      " ---\n",
      "0.0    145121\n",
      "NaN        91\n",
      "1.0        19\n",
      "Name: VAR_0138, dtype: int64 \n",
      " ---\n",
      "0.0    145081\n",
      "NaN        89\n",
      "1.0        61\n",
      "Name: VAR_0180, dtype: int64 \n",
      " ---\n",
      "0.0    145081\n",
      "NaN        89\n",
      "1.0        61\n",
      "Name: VAR_0181, dtype: int64 \n",
      " ---\n",
      "0.0    145081\n",
      "NaN        89\n",
      "1.0        61\n",
      "Name: VAR_0182, dtype: int64 \n",
      " ---\n",
      "0.0    145138\n",
      "NaN        89\n",
      "1.0         4\n",
      "Name: VAR_0191, dtype: int64 \n",
      " ---\n",
      "1.0    143665\n",
      "NaN       918\n",
      "0.0       648\n",
      "Name: VAR_0244, dtype: int64 \n",
      " ---\n",
      "0.0    143985\n",
      "NaN       918\n",
      "1.0       328\n",
      "Name: VAR_0247, dtype: int64 \n",
      " ---\n",
      "0.0    131363\n",
      "1.0     12950\n",
      "NaN       918\n",
      "Name: VAR_0344, dtype: int64 \n",
      " ---\n",
      "0.0    87818\n",
      "1.0    56495\n",
      "NaN      918\n",
      "Name: VAR_0362, dtype: int64 \n",
      " ---\n",
      "0.0    86448\n",
      "1.0    57865\n",
      "NaN      918\n",
      "Name: VAR_0383, dtype: int64 \n",
      " ---\n",
      "0.0    140840\n",
      "1.0      3473\n",
      "NaN       918\n",
      "Name: VAR_0384, dtype: int64 \n",
      " ---\n",
      "0.0    144269\n",
      "NaN       918\n",
      "1.0        44\n",
      "Name: VAR_0392, dtype: int64 \n",
      " ---\n",
      "0.0    144310\n",
      "NaN       918\n",
      "1.0         3\n",
      "Name: VAR_0395, dtype: int64 \n",
      " ---\n",
      "0.0    144302\n",
      "NaN       918\n",
      "1.0        11\n",
      "Name: VAR_0411, dtype: int64 \n",
      " ---\n",
      "0.0    144306\n",
      "NaN       918\n",
      "1.0         7\n",
      "Name: VAR_0459, dtype: int64 \n",
      " ---\n",
      "0.0    144123\n",
      "NaN       918\n",
      "1.0       190\n",
      "Name: VAR_0468, dtype: int64 \n",
      " ---\n",
      "0.0    92685\n",
      "1.0    51628\n",
      "NaN      918\n",
      "Name: VAR_0490, dtype: int64 \n",
      " ---\n",
      "0.0    144150\n",
      "NaN       918\n",
      "1.0       163\n",
      "Name: VAR_0502, dtype: int64 \n",
      " ---\n",
      "0.0    125694\n",
      "1.0     18619\n",
      "NaN       918\n",
      "Name: VAR_0503, dtype: int64 \n",
      " ---\n",
      "0.0    111155\n",
      "1.0     33158\n",
      "NaN       918\n",
      "Name: VAR_0504, dtype: int64 \n",
      " ---\n",
      "0.0    114907\n",
      "1.0     29406\n",
      "NaN       918\n",
      "Name: VAR_0505, dtype: int64 \n",
      " ---\n",
      "0.0    144313\n",
      "NaN       917\n",
      "1.0         1\n",
      "Name: VAR_0526, dtype: int64 \n",
      " ---\n",
      "0.0    144313\n",
      "NaN       917\n",
      "1.0         1\n",
      "Name: VAR_0529, dtype: int64 \n",
      " ---\n"
     ]
    }
   ],
   "source": [
    "for v in i3:\n",
    "    print(dff[v].value_counts(dropna=False),'\\n ---')"
   ]
  },
  {
   "cell_type": "code",
   "execution_count": 70,
   "metadata": {},
   "outputs": [
    {
     "name": "stdout",
     "output_type": "stream",
     "text": [
      "1.0    132647\n",
      "0.0     12476\n",
      "NaN        91\n",
      "2.0        17\n",
      "Name: VAR_0090, dtype: int64 \n",
      " ---\n",
      "1.0    132634\n",
      "0.0     12471\n",
      "NaN        91\n",
      "2.0        35\n",
      "Name: VAR_0091, dtype: int64 \n",
      " ---\n",
      "0.0    144985\n",
      "1.0       153\n",
      "NaN        91\n",
      "2.0         2\n",
      "Name: VAR_0099, dtype: int64 \n",
      " ---\n",
      "0.0    145101\n",
      "NaN        91\n",
      "1.0        36\n",
      "2.0         3\n",
      "Name: VAR_0107, dtype: int64 \n",
      " ---\n",
      "0.0    144981\n",
      "1.0       156\n",
      "NaN        91\n",
      "2.0         3\n",
      "Name: VAR_0115, dtype: int64 \n",
      " ---\n",
      "1.0    143483\n",
      "0.0      1633\n",
      "NaN        91\n",
      "2.0        24\n",
      "Name: VAR_0122, dtype: int64 \n",
      " ---\n",
      "0.0    144985\n",
      "1.0       153\n",
      "NaN        91\n",
      "2.0         2\n",
      "Name: VAR_0139, dtype: int64 \n",
      " ---\n",
      "0.0    144493\n",
      "1.0       642\n",
      "NaN        89\n",
      "2.0         7\n",
      "Name: VAR_0183, dtype: int64 \n",
      " ---\n",
      "0.0    145131\n",
      "NaN        89\n",
      "1.0         9\n",
      "2.0         2\n",
      "Name: VAR_0192, dtype: int64 \n",
      " ---\n",
      " 0.0    143925\n",
      " NaN       918\n",
      " 1.0       385\n",
      "-1.0         3\n",
      "Name: VAR_0248, dtype: int64 \n",
      " ---\n",
      " 1.0    131847\n",
      " 0.0     12465\n",
      " NaN       918\n",
      "-1.0         1\n",
      "Name: VAR_0252, dtype: int64 \n",
      " ---\n",
      " 0.0    144038\n",
      " NaN       918\n",
      " 1.0       272\n",
      "-1.0         3\n",
      "Name: VAR_0271, dtype: int64 \n",
      " ---\n",
      " 0.0    144159\n",
      " NaN       918\n",
      " 1.0       151\n",
      "-1.0         3\n",
      "Name: VAR_0275, dtype: int64 \n",
      " ---\n",
      " 0.0    143651\n",
      " NaN       918\n",
      " 1.0       659\n",
      "-1.0         3\n",
      "Name: VAR_0276, dtype: int64 \n",
      " ---\n",
      " 0.0    144193\n",
      " NaN       918\n",
      " 1.0       117\n",
      "-1.0         3\n",
      "Name: VAR_0277, dtype: int64 \n",
      " ---\n",
      " 2.0    102014\n",
      " 1.0     28540\n",
      "-1.0     13759\n",
      " NaN       918\n",
      "Name: VAR_0281, dtype: int64 \n",
      " ---\n",
      " 0.0    54797\n",
      "-1.0    46430\n",
      " 1.0    43086\n",
      " NaN      918\n",
      "Name: VAR_0285, dtype: int64 \n",
      " ---\n",
      " 0.0    83781\n",
      "-1.0    46430\n",
      " 1.0    14102\n",
      " NaN      918\n",
      "Name: VAR_0286, dtype: int64 \n",
      " ---\n",
      " 0.0    70315\n",
      "-1.0    46430\n",
      " 1.0    27568\n",
      " NaN      918\n",
      "Name: VAR_0287, dtype: int64 \n",
      " ---\n",
      " 0.0    102014\n",
      " 1.0     39777\n",
      "-1.0      2522\n",
      " NaN       918\n",
      "Name: VAR_0291, dtype: int64 \n",
      " ---\n",
      " 0.0    103376\n",
      " 1.0     40936\n",
      " NaN       918\n",
      "-1.0         1\n",
      "Name: VAR_0292, dtype: int64 \n",
      " ---\n",
      " 0.0    103587\n",
      " 1.0     38205\n",
      "-1.0      2521\n",
      " NaN       918\n",
      "Name: VAR_0306, dtype: int64 \n",
      " ---\n",
      " 0.0    128473\n",
      " 1.0     13319\n",
      "-1.0      2521\n",
      " NaN       918\n",
      "Name: VAR_0307, dtype: int64 \n",
      " ---\n",
      " 0.0    113769\n",
      " 1.0     28023\n",
      "-1.0      2521\n",
      " NaN       918\n",
      "Name: VAR_0308, dtype: int64 \n",
      " ---\n",
      " 0.0    102477\n",
      " 1.0     39315\n",
      "-1.0      2521\n",
      " NaN       918\n",
      "Name: VAR_0312, dtype: int64 \n",
      " ---\n",
      " 0.0    121532\n",
      " 1.0     16837\n",
      "-1.0      5944\n",
      " NaN       918\n",
      "Name: VAR_0326, dtype: int64 \n",
      " ---\n",
      " 0.0    126170\n",
      " 1.0     12199\n",
      "-1.0      5944\n",
      " NaN       918\n",
      "Name: VAR_0327, dtype: int64 \n",
      " ---\n",
      " 0.0    108811\n",
      " 1.0     29558\n",
      "-1.0      5944\n",
      " NaN       918\n",
      "Name: VAR_0328, dtype: int64 \n",
      " ---\n",
      " 0.0    97594\n",
      "-1.0    30969\n",
      " 1.0    15750\n",
      " NaN      918\n",
      "Name: VAR_0339, dtype: int64 \n",
      " ---\n",
      "-1.0    131721\n",
      " 0.0      8931\n",
      " 1.0      3661\n",
      " NaN       918\n",
      "Name: VAR_0345, dtype: int64 \n",
      " ---\n",
      "-1.0    131721\n",
      " 1.0      8907\n",
      " 0.0      3685\n",
      " NaN       918\n",
      "Name: VAR_0346, dtype: int64 \n",
      " ---\n",
      "-1.0    131721\n",
      " 0.0     12568\n",
      " NaN       918\n",
      " 1.0        24\n",
      "Name: VAR_0347, dtype: int64 \n",
      " ---\n",
      "-1.0    131721\n",
      " 0.0     11303\n",
      " 1.0      1289\n",
      " NaN       918\n",
      "Name: VAR_0348, dtype: int64 \n",
      " ---\n",
      "0.0    144225\n",
      "NaN       918\n",
      "1.0        85\n",
      "2.0         3\n",
      "Name: VAR_0377, dtype: int64 \n",
      " ---\n",
      "0.0    144259\n",
      "NaN       918\n",
      "1.0        46\n",
      "2.0         8\n",
      "Name: VAR_0386, dtype: int64 \n",
      " ---\n",
      "0.0    144308\n",
      "NaN       918\n",
      "1.0         3\n",
      "2.0         2\n",
      "Name: VAR_0396, dtype: int64 \n",
      " ---\n",
      "0.0    144306\n",
      "NaN       918\n",
      "1.0         5\n",
      "2.0         2\n",
      "Name: VAR_0397, dtype: int64 \n",
      " ---\n",
      "0.0    144305\n",
      "NaN       918\n",
      "1.0         6\n",
      "2.0         2\n",
      "Name: VAR_0398, dtype: int64 \n",
      " ---\n",
      "0.0    144295\n",
      "NaN       918\n",
      "1.0        15\n",
      "2.0         3\n",
      "Name: VAR_0399, dtype: int64 \n",
      " ---\n",
      " 0.0    130764\n",
      " 1.0     13463\n",
      " NaN       918\n",
      "-1.0        86\n",
      "Name: VAR_0401, dtype: int64 \n",
      " ---\n",
      " 0.0    139641\n",
      " 1.0      4586\n",
      " NaN       918\n",
      "-1.0        86\n",
      "Name: VAR_0402, dtype: int64 \n",
      " ---\n",
      "0.0    144282\n",
      "NaN       918\n",
      "1.0        29\n",
      "3.0         2\n",
      "Name: VAR_0412, dtype: int64 \n",
      " ---\n",
      "0.0    144151\n",
      "NaN       918\n",
      "1.0       155\n",
      "2.0         7\n",
      "Name: VAR_0428, dtype: int64 \n",
      " ---\n",
      "0.0    144289\n",
      "NaN       918\n",
      "1.0        20\n",
      "2.0         4\n",
      "Name: VAR_0463, dtype: int64 \n",
      " ---\n",
      "0.0    143696\n",
      "NaN       918\n",
      "1.0       614\n",
      "2.0         3\n",
      "Name: VAR_0469, dtype: int64 \n",
      " ---\n",
      "0.0    143027\n",
      "1.0      1281\n",
      "NaN       918\n",
      "2.0         5\n",
      "Name: VAR_0470, dtype: int64 \n",
      " ---\n",
      "0.0    141475\n",
      "1.0      2827\n",
      "NaN       918\n",
      "2.0        11\n",
      "Name: VAR_0471, dtype: int64 \n",
      " ---\n",
      "-1.0    141223\n",
      " 1.0      2023\n",
      " 0.0      1067\n",
      " NaN       918\n",
      "Name: VAR_0495, dtype: int64 \n",
      " ---\n",
      "0.0    144094\n",
      "NaN       918\n",
      "1.0       216\n",
      "2.0         3\n",
      "Name: VAR_0507, dtype: int64 \n",
      " ---\n",
      " 1.0    80994\n",
      " 0.0    61729\n",
      "-1.0     1590\n",
      " NaN      918\n",
      "Name: VAR_0513, dtype: int64 \n",
      " ---\n",
      " 0.0    142706\n",
      "-1.0      1590\n",
      " NaN       918\n",
      " 1.0        17\n",
      "Name: VAR_0518, dtype: int64 \n",
      " ---\n",
      " 1.0    107407\n",
      " 0.0     36820\n",
      " NaN       918\n",
      "-1.0        86\n",
      "Name: VAR_0520, dtype: int64 \n",
      " ---\n",
      " 0.0    144131\n",
      " NaN       918\n",
      " 1.0       181\n",
      "-1.0         1\n",
      "Name: VAR_0521, dtype: int64 \n",
      " ---\n",
      " 0.0    141789\n",
      "-1.0      2522\n",
      " NaN       918\n",
      " 1.0         2\n",
      "Name: VAR_0522, dtype: int64 \n",
      " ---\n",
      " 0.0    138354\n",
      "-1.0      5945\n",
      " NaN       918\n",
      " 1.0        14\n",
      "Name: VAR_0523, dtype: int64 \n",
      " ---\n",
      " 0.0    144072\n",
      " NaN       918\n",
      " 1.0       155\n",
      "-1.0        86\n",
      "Name: VAR_0524, dtype: int64 \n",
      " ---\n"
     ]
    }
   ],
   "source": [
    "for v in i4:\n",
    "    print(dff[v].value_counts(dropna=False),'\\n ---')"
   ]
  },
  {
   "cell_type": "code",
   "execution_count": 71,
   "metadata": {},
   "outputs": [
    {
     "name": "stdout",
     "output_type": "stream",
     "text": [
      "1.0    132575\n",
      "0.0     12438\n",
      "2.0       125\n",
      "NaN        91\n",
      "3.0         2\n",
      "Name: VAR_0092, dtype: int64 \n",
      " ---\n",
      "0.0    144867\n",
      "1.0       250\n",
      "NaN        91\n",
      "2.0        20\n",
      "3.0         3\n",
      "Name: VAR_0108, dtype: int64 \n",
      " ---\n",
      "0.0    144251\n",
      "1.0       855\n",
      "NaN        91\n",
      "2.0        33\n",
      "4.0         1\n",
      "Name: VAR_0116, dtype: int64 \n",
      " ---\n",
      "1.0    143459\n",
      "0.0      1633\n",
      "NaN        91\n",
      "2.0        47\n",
      "3.0         1\n",
      "Name: VAR_0123, dtype: int64 \n",
      " ---\n",
      "1.0    143291\n",
      "0.0      1633\n",
      "2.0       209\n",
      "NaN        91\n",
      "3.0         7\n",
      "Name: VAR_0124, dtype: int64 \n",
      " ---\n",
      "0.0    144980\n",
      "1.0       148\n",
      "NaN        91\n",
      "2.0        11\n",
      "3.0         1\n",
      "Name: VAR_0131, dtype: int64 \n",
      " ---\n",
      "0.0    139870\n",
      "1.0      4862\n",
      "2.0       401\n",
      "NaN        89\n",
      "3.0         9\n",
      "Name: VAR_0150, dtype: int64 \n",
      " ---\n",
      "0.0    144246\n",
      "1.0       860\n",
      "NaN        89\n",
      "2.0        35\n",
      "3.0         1\n",
      "Name: VAR_0153, dtype: int64 \n",
      " ---\n",
      "0.0    143941\n",
      "1.0      1126\n",
      "NaN        89\n",
      "2.0        69\n",
      "3.0         6\n",
      "Name: VAR_0163, dtype: int64 \n",
      " ---\n",
      "0.0    143114\n",
      "1.0      1841\n",
      "2.0       167\n",
      "NaN        89\n",
      "3.0        20\n",
      "Name: VAR_0173, dtype: int64 \n",
      " ---\n",
      "0.0    145125\n",
      "NaN        89\n",
      "1.0        13\n",
      "2.0         3\n",
      "3.0         1\n",
      "Name: VAR_0193, dtype: int64 \n",
      " ---\n",
      "0.0    145112\n",
      "NaN        89\n",
      "1.0        25\n",
      "2.0         3\n",
      "3.0         2\n",
      "Name: VAR_0194, dtype: int64 \n",
      " ---\n",
      "3.0    143271\n",
      "NaN       918\n",
      "1.0       511\n",
      "0.0       326\n",
      "2.0       205\n",
      "Name: VAR_0249, dtype: int64 \n",
      " ---\n",
      " 2.0    143167\n",
      " NaN       918\n",
      " 0.0       707\n",
      "-1.0       388\n",
      " 1.0        51\n",
      "Name: VAR_0250, dtype: int64 \n",
      " ---\n",
      " 0.0    117691\n",
      " 2.0     24345\n",
      "-1.0      1590\n",
      " NaN       918\n",
      " 1.0       687\n",
      "Name: VAR_0251, dtype: int64 \n",
      " ---\n",
      "0.0    143362\n",
      "1.0       934\n",
      "NaN       918\n",
      "2.0        16\n",
      "3.0         1\n",
      "Name: VAR_0259, dtype: int64 \n",
      " ---\n",
      "0.0    144154\n",
      "NaN       918\n",
      "1.0       152\n",
      "2.0         6\n",
      "3.0         1\n",
      "Name: VAR_0264, dtype: int64 \n",
      " ---\n",
      "0.0    138497\n",
      "1.0      5698\n",
      "NaN       918\n",
      "2.0       116\n",
      "3.0         2\n",
      "Name: VAR_0265, dtype: int64 \n",
      " ---\n",
      "-1.0    123056\n",
      " 3.0     17022\n",
      " 1.0      2525\n",
      " 2.0      1710\n",
      " NaN       918\n",
      "Name: VAR_0290, dtype: int64 \n",
      " ---\n",
      "-1.0    125394\n",
      " 3.0     15222\n",
      " 1.0      2163\n",
      " 2.0      1534\n",
      " NaN       918\n",
      "Name: VAR_0311, dtype: int64 \n",
      " ---\n",
      "0.0    144097\n",
      "NaN       918\n",
      "1.0       209\n",
      "2.0         6\n",
      "3.0         1\n",
      "Name: VAR_0371, dtype: int64 \n",
      " ---\n",
      "0.0    143457\n",
      "NaN       918\n",
      "1.0       836\n",
      "2.0        17\n",
      "3.0         3\n",
      "Name: VAR_0372, dtype: int64 \n",
      " ---\n",
      "0.0    143928\n",
      "NaN       918\n",
      "1.0       379\n",
      "2.0         5\n",
      "5.0         1\n",
      "Name: VAR_0378, dtype: int64 \n",
      " ---\n",
      "0.0    144143\n",
      "NaN       918\n",
      "1.0       141\n",
      "2.0        26\n",
      "4.0         3\n",
      "Name: VAR_0387, dtype: int64 \n",
      " ---\n",
      "0.0    143506\n",
      "NaN       918\n",
      "1.0       740\n",
      "2.0        64\n",
      "3.0         3\n",
      "Name: VAR_0420, dtype: int64 \n",
      " ---\n",
      "0.0    138045\n",
      "1.0      6241\n",
      "NaN       918\n",
      "2.0        26\n",
      "3.0         1\n",
      "Name: VAR_0472, dtype: int64 \n",
      " ---\n",
      "0.0    144030\n",
      "NaN       918\n",
      "1.0       248\n",
      "2.0        33\n",
      "3.0         2\n",
      "Name: VAR_0476, dtype: int64 \n",
      " ---\n",
      "0.0    143988\n",
      "NaN       918\n",
      "1.0       288\n",
      "2.0        29\n",
      "3.0         8\n",
      "Name: VAR_0496, dtype: int64 \n",
      " ---\n",
      "0.0    143379\n",
      "NaN       918\n",
      "1.0       835\n",
      "2.0        82\n",
      "3.0        17\n",
      "Name: VAR_0497, dtype: int64 \n",
      " ---\n",
      "0.0    143673\n",
      "NaN       918\n",
      "1.0       623\n",
      "2.0        15\n",
      "3.0         2\n",
      "Name: VAR_0508, dtype: int64 \n",
      " ---\n"
     ]
    }
   ],
   "source": [
    "for v in i5:\n",
    "    print(dff[v].value_counts(dropna=False),'\\n ---')"
   ]
  },
  {
   "cell_type": "code",
   "execution_count": 72,
   "metadata": {},
   "outputs": [
    {
     "name": "stdout",
     "output_type": "stream",
     "text": [
      "0.0     144621\n",
      "1.0        517\n",
      "NaN         56\n",
      "2.0         34\n",
      "3.0          2\n",
      "12.0         1\n",
      "Name: VAR_0045, dtype: int64 \n",
      " ---\n",
      "0.0    144294\n",
      "1.0       813\n",
      "NaN        91\n",
      "2.0        31\n",
      "4.0         1\n",
      "3.0         1\n",
      "Name: VAR_0100, dtype: int64 \n",
      " ---\n",
      "0.0    144262\n",
      "1.0       818\n",
      "NaN        91\n",
      "2.0        56\n",
      "4.0         3\n",
      "3.0         1\n",
      "Name: VAR_0140, dtype: int64 \n",
      " ---\n",
      "0.0    143798\n",
      "1.0      1223\n",
      "2.0       113\n",
      "NaN        89\n",
      "3.0         7\n",
      "4.0         1\n",
      "Name: VAR_0146, dtype: int64 \n",
      " ---\n",
      "0.0    142547\n",
      "1.0      2480\n",
      "2.0       107\n",
      "NaN        89\n",
      "3.0         7\n",
      "4.0         1\n",
      "Name: VAR_0184, dtype: int64 \n",
      " ---\n",
      "0.0    140981\n",
      "1.0      3859\n",
      "2.0       261\n",
      "NaN        89\n",
      "3.0        35\n",
      "4.0         6\n",
      "Name: VAR_0185, dtype: int64 \n",
      " ---\n",
      "0.0    139044\n",
      "1.0      5560\n",
      "2.0       445\n",
      "NaN        89\n",
      "3.0        78\n",
      "4.0        15\n",
      "Name: VAR_0186, dtype: int64 \n",
      " ---\n",
      "0.0    145081\n",
      "NaN        89\n",
      "1.0        50\n",
      "2.0         8\n",
      "3.0         2\n",
      "6.0         1\n",
      "Name: VAR_0195, dtype: int64 \n",
      " ---\n",
      "0.0    142918\n",
      "1.0      1224\n",
      "2.0       977\n",
      "NaN        56\n",
      "3.0        44\n",
      "4.0        12\n",
      "Name: VAR_0219, dtype: int64 \n",
      " ---\n",
      "0.0    135365\n",
      "1.0      8431\n",
      "NaN       918\n",
      "2.0       487\n",
      "3.0        26\n",
      "4.0         4\n",
      "Name: VAR_0261, dtype: int64 \n",
      " ---\n",
      "0.0    138554\n",
      "1.0      5392\n",
      "NaN       918\n",
      "2.0       351\n",
      "3.0        15\n",
      "4.0         1\n",
      "Name: VAR_0269, dtype: int64 \n",
      " ---\n",
      "-1.0    142971\n",
      " 4.0       925\n",
      " NaN       918\n",
      " 1.0       342\n",
      " 3.0        58\n",
      " 2.0        17\n",
      "Name: VAR_0284, dtype: int64 \n",
      " ---\n",
      "0.0    142363\n",
      "1.0      1895\n",
      "NaN       918\n",
      "2.0        46\n",
      "3.0         7\n",
      "4.0         2\n",
      "Name: VAR_0373, dtype: int64 \n",
      " ---\n",
      "0.0    143430\n",
      "NaN       918\n",
      "1.0       864\n",
      "2.0        17\n",
      "5.0         1\n",
      "3.0         1\n",
      "Name: VAR_0379, dtype: int64 \n",
      " ---\n",
      "0.0    142464\n",
      "1.0      1806\n",
      "NaN       918\n",
      "2.0        40\n",
      "3.0         2\n",
      "8.0         1\n",
      "Name: VAR_0380, dtype: int64 \n",
      " ---\n",
      "0.0    144269\n",
      "NaN       918\n",
      "1.0        32\n",
      "2.0         7\n",
      "3.0         4\n",
      "4.0         1\n",
      "Name: VAR_0393, dtype: int64 \n",
      " ---\n",
      "0.0    144253\n",
      "NaN       918\n",
      "1.0        56\n",
      "3.0         2\n",
      "6.0         1\n",
      "2.0         1\n",
      "Name: VAR_0413, dtype: int64 \n",
      " ---\n",
      " 0.0    138286\n",
      " 3.0      5579\n",
      " NaN       918\n",
      " 1.0       386\n",
      " 2.0        61\n",
      "-1.0         1\n",
      "Name: VAR_0525, dtype: int64 \n",
      " ---\n"
     ]
    }
   ],
   "source": [
    "for v in i6:\n",
    "    print(dff[v].value_counts(dropna=False),'\\n ---')"
   ]
  },
  {
   "cell_type": "code",
   "execution_count": null,
   "metadata": {},
   "outputs": [],
   "source": []
  },
  {
   "cell_type": "code",
   "execution_count": null,
   "metadata": {},
   "outputs": [],
   "source": []
  },
  {
   "cell_type": "markdown",
   "metadata": {},
   "source": [
    "### 4.3 Feature engineering  (floats) <a id='4.3_fi'></a>"
   ]
  },
  {
   "cell_type": "markdown",
   "metadata": {},
   "source": [
    "OK, time to act:\n",
    "\n",
    "1) remove 3 columns with nan only\n",
    "\n",
    "2) since nan behaviour different for target=0 and 1, let's replace it by adding a min value -1"
   ]
  },
  {
   "cell_type": "code",
   "execution_count": 115,
   "metadata": {},
   "outputs": [
    {
     "data": {
      "text/plain": [
       "(145231, 474)"
      ]
     },
     "execution_count": 115,
     "metadata": {},
     "output_type": "execute_result"
    }
   ],
   "source": [
    "dff = dff.drop(i1,axis=1)\n",
    "dff.shape"
   ]
  },
  {
   "cell_type": "code",
   "execution_count": null,
   "metadata": {},
   "outputs": [],
   "source": []
  },
  {
   "cell_type": "code",
   "execution_count": 116,
   "metadata": {},
   "outputs": [
    {
     "data": {
      "text/plain": [
       "(145231, 474)"
      ]
     },
     "execution_count": 116,
     "metadata": {},
     "output_type": "execute_result"
    }
   ],
   "source": [
    "replace_min = []\n",
    "\n",
    "for col in dff.columns:\n",
    "    min = dff[col].min()    \n",
    "    dff[col] = dff[col].fillna(min - 1)\n",
    "\n",
    "    replace_min.append(min-1)\n",
    "    \n",
    "dff.shape"
   ]
  },
  {
   "cell_type": "code",
   "execution_count": 118,
   "metadata": {},
   "outputs": [
    {
     "data": {
      "image/png": "[encoded data removed]",
      "text/plain": [
       "<Figure size 720x216 with 2 Axes>"
      ]
     },
     "metadata": {
      "needs_background": "light"
     },
     "output_type": "display_data"
    }
   ],
   "source": [
    "c= dff.isna().sum(axis=0)/dff.shape[0]\n",
    "r= dff.isna().sum(axis=1)/dff.shape[1]\n",
    "\n",
    "fig, ax = plt.subplots(1,2,figsize=(10,3))\n",
    "\n",
    "ax[0].hist(c) \n",
    "ax[1].hist(r)\n",
    "\n",
    "fig.suptitle('Numerical features (floats)')\n",
    "ax[0].set_yscale('log'); ax[0].set_ylim((0.5,len(c)*10)); ax[0].set_xlabel('N. of null entries / column')\n",
    "ax[1].set_yscale('log'); ax[1].set_ylim((0.5,len(r)*10)); ax[1].set_xlabel('N. of null entries / row');"
   ]
  },
  {
   "cell_type": "markdown",
   "metadata": {},
   "source": [
    "### 4.4 Random Forest Classifier <a id='4.4_rf'></a>"
   ]
  },
  {
   "cell_type": "code",
   "execution_count": 119,
   "metadata": {},
   "outputs": [],
   "source": [
    "X_train2, X_test2, y_train2, y_test2 = train_test_split(dff, y, test_size=0.25, random_state=111)"
   ]
  },
  {
   "cell_type": "code",
   "execution_count": 120,
   "metadata": {},
   "outputs": [],
   "source": [
    "rf2 = RandomForestClassifier(random_state=222)"
   ]
  },
  {
   "cell_type": "code",
   "execution_count": 121,
   "metadata": {},
   "outputs": [
    {
     "name": "stdout",
     "output_type": "stream",
     "text": [
      "Fitting 3 folds for each of 12 candidates, totalling 36 fits\n"
     ]
    },
    {
     "name": "stderr",
     "output_type": "stream",
     "text": [
      "/data/anaconda3/lib/python3.8/site-packages/sklearn/model_selection/_search.py:278: UserWarning: The total space of parameters 12 is smaller than n_iter=100. Running 12 iterations. For exhaustive searches, use GridSearchCV.\n",
      "  warnings.warn(\n",
      "[Parallel(n_jobs=-1)]: Using backend LokyBackend with 8 concurrent workers.\n",
      "/data/anaconda3/lib/python3.8/site-packages/joblib/externals/loky/process_executor.py:688: UserWarning: A worker stopped while some jobs were given to the executor. This can be caused by a too short worker timeout or by a memory leak.\n",
      "  warnings.warn(\n",
      "[Parallel(n_jobs=-1)]: Done  36 out of  36 | elapsed: 88.3min finished\n"
     ]
    },
    {
     "name": "stdout",
     "output_type": "stream",
     "text": [
      "Best Score:0.6878175525662079\n",
      "Best Parameters: {'n_estimators': 1000, 'max_depth': 20, 'bootstrap': False}\n"
     ]
    }
   ],
   "source": [
    "param_grid = {'n_estimators': [800,1000],\n",
    "              'max_depth': [20, 30, 40],\n",
    "              'bootstrap': [True, False]}\n",
    "\n",
    "rf2_cv = RandomizedSearchCV(estimator=rf2, param_distributions=param_grid, n_iter = 100,\n",
    "                               scoring='roc_auc', cv = 3, verbose=2, n_jobs = -1, random_state=333)\n",
    "\n",
    "rf2_cv.fit(X_train2,y_train2)\n",
    "\n",
    "print(\"Best Score:\" + str(rf2_cv.best_score_))\n",
    "print(\"Best Parameters: \" + str(rf2_cv.best_params_))"
   ]
  },
  {
   "cell_type": "code",
   "execution_count": null,
   "metadata": {},
   "outputs": [],
   "source": []
  },
  {
   "cell_type": "code",
   "execution_count": 125,
   "metadata": {},
   "outputs": [
    {
     "name": "stdout",
     "output_type": "stream",
     "text": [
      "              precision    recall  f1-score   support\n",
      "\n",
      "        RF 0       0.79      0.97      0.87     27856\n",
      "        RF 1       0.59      0.14      0.23      8452\n",
      "\n",
      "    accuracy                           0.78     36308\n",
      "   macro avg       0.69      0.56      0.55     36308\n",
      "weighted avg       0.74      0.78      0.72     36308\n",
      "\n"
     ]
    }
   ],
   "source": [
    "y_pred2 = rf2_cv.predict(X_test2)\n",
    "print(classification_report(y_test2, y_pred2, target_names=['RF 0','RF 1']))"
   ]
  },
  {
   "cell_type": "code",
   "execution_count": 126,
   "metadata": {},
   "outputs": [
    {
     "data": {
      "image/png": "[encoded data removed]",
      "text/plain": [
       "<Figure size 432x288 with 2 Axes>"
      ]
     },
     "metadata": {
      "needs_background": "light"
     },
     "output_type": "display_data"
    }
   ],
   "source": [
    "cm = confusion_matrix(y_test2, y_pred2)\n",
    "sns.heatmap(cm,annot=True,cmap='Blues');"
   ]
  },
  {
   "cell_type": "code",
   "execution_count": 127,
   "metadata": {},
   "outputs": [
    {
     "data": {
      "image/png": "[encoded data removed]",
      "text/plain": [
       "<Figure size 432x288 with 1 Axes>"
      ]
     },
     "metadata": {
      "needs_background": "light"
     },
     "output_type": "display_data"
    },
    {
     "name": "stdout",
     "output_type": "stream",
     "text": [
      "AUC= 0.69225\n",
      "ROC_AUC_SCORE= 0.69225\n"
     ]
    }
   ],
   "source": [
    "y_score2 = rf2_cv.predict_proba(X_test2)[:,1]\n",
    "\n",
    "false_positive_rate, true_positive_rate, threshold = roc_curve(y_test2, y_score2)\n",
    "\n",
    "# Plot ROC curve\n",
    "plt.title('ROC curve (floats)')\n",
    "plt.plot(false_positive_rate, true_positive_rate)\n",
    "plt.plot([0, 1], ls=\"--\")\n",
    "plt.plot([0, 0], [1, 0] , c=\".7\"), plt.plot([1, 1] , c=\".7\")\n",
    "plt.ylabel('True Positive Rate')\n",
    "plt.xlabel('False Positive Rate')\n",
    "plt.show()\n",
    "\n",
    "print('AUC=',round(auc(false_positive_rate, true_positive_rate),5))\n",
    "print('ROC_AUC_SCORE=',round(roc_auc_score(y_test2, y_score2,average = \"weighted\"),5))"
   ]
  },
  {
   "cell_type": "code",
   "execution_count": null,
   "metadata": {},
   "outputs": [],
   "source": []
  },
  {
   "cell_type": "code",
   "execution_count": 142,
   "metadata": {},
   "outputs": [
    {
     "data": {
      "text/plain": [
       "(145232, 477)"
      ]
     },
     "execution_count": 142,
     "metadata": {},
     "output_type": "execute_result"
    }
   ],
   "source": [
    "dtf = dt_all.select_dtypes(include='float')\n",
    "dtf.shape"
   ]
  },
  {
   "cell_type": "code",
   "execution_count": 143,
   "metadata": {},
   "outputs": [
    {
     "data": {
      "text/plain": [
       "(145232, 474)"
      ]
     },
     "execution_count": 143,
     "metadata": {},
     "output_type": "execute_result"
    }
   ],
   "source": [
    "dtf = dtf.drop(i1,axis=1)\n",
    "\n",
    "for i, col in enumerate(dtf.columns):\n",
    "    dtf[col] = dtf[col].fillna(replace_min[i])\n",
    "    \n",
    "dtf.shape"
   ]
  },
  {
   "cell_type": "code",
   "execution_count": null,
   "metadata": {},
   "outputs": [],
   "source": []
  },
  {
   "cell_type": "code",
   "execution_count": 144,
   "metadata": {},
   "outputs": [
    {
     "data": {
      "text/plain": [
       "array([0.38696564, 0.48952708, 0.28162431, ..., 0.1097596 , 0.3551267 ,\n",
       "       0.09504038])"
      ]
     },
     "execution_count": 144,
     "metadata": {},
     "output_type": "execute_result"
    }
   ],
   "source": [
    "y_out = rf2_cv.predict_proba(dtf)[:,1]\n",
    "y_out"
   ]
  },
  {
   "cell_type": "code",
   "execution_count": 145,
   "metadata": {},
   "outputs": [],
   "source": [
    "fout.target = y_out\n",
    "fout.to_csv('submission-v1.csv', index=False)"
   ]
  },
  {
   "cell_type": "code",
   "execution_count": null,
   "metadata": {},
   "outputs": [],
   "source": []
  },
  {
   "cell_type": "markdown",
   "metadata": {},
   "source": [
    "#### 4.4.1 Feature importance <a id='4.4.1_fi'></a>"
   ]
  },
  {
   "cell_type": "code",
   "execution_count": 146,
   "metadata": {},
   "outputs": [
    {
     "data": {
      "image/png": "[encoded data removed]",
      "text/plain": [
       "<Figure size 1440x360 with 1 Axes>"
      ]
     },
     "metadata": {
      "needs_background": "light"
     },
     "output_type": "display_data"
    }
   ],
   "source": [
    "rf2_feature_importance = pd.Series(rf2_cv.best_estimator_.feature_importances_, index=dff.columns)\n",
    "rf2_feature_importance.sort_values(ascending=False).plot(kind='bar',figsize=(20,5));"
   ]
  },
  {
   "cell_type": "markdown",
   "metadata": {},
   "source": [
    "#### 4.4.2 PCA <a id='4.4.2_pca'></a>"
   ]
  },
  {
   "cell_type": "code",
   "execution_count": 147,
   "metadata": {},
   "outputs": [],
   "source": [
    "scaler = StandardScaler()\n",
    "scaled_X = scaler.fit_transform(dff)\n",
    "pca_scaled = PCA().fit(scaled_X)"
   ]
  },
  {
   "cell_type": "code",
   "execution_count": 148,
   "metadata": {},
   "outputs": [
    {
     "data": {
      "image/png": "[encoded data removed]",
      "text/plain": [
       "<Figure size 1440x360 with 1 Axes>"
      ]
     },
     "metadata": {
      "needs_background": "light"
     },
     "output_type": "display_data"
    }
   ],
   "source": [
    "plt.figure(figsize=(20, 5))\n",
    "\n",
    "n_comp = len(pca_scaled.explained_variance_ratio_)\n",
    "#n_comp = 320\n",
    "\n",
    "plt.plot(pca_scaled.explained_variance_ratio_[:n_comp].cumsum())\n",
    "\n",
    "plt.xticks(np.arange(0, n_comp, 50))\n",
    "plt.yticks(np.arange(0, 1.05, 0.05))\n",
    "plt.ylim((0.,1.05))\n",
    "plt.grid()\n",
    "plt.xlabel('Component #, SCALED Standard',fontsize=16)\n",
    "plt.ylabel('Cumulative ratio variance',fontsize=16);"
   ]
  },
  {
   "cell_type": "markdown",
   "metadata": {},
   "source": [
    "#### 4.4.3 Kolmogorov-Smirnov test <a id='4.4.3_ks_test'></a>"
   ]
  },
  {
   "cell_type": "code",
   "execution_count": 149,
   "metadata": {},
   "outputs": [],
   "source": [
    "from scipy import stats\n",
    "\n",
    "ks = []\n",
    "pv = []\n",
    "\n",
    "ks_acc = []\n",
    "ks_rem = []\n",
    "\n",
    "for col in dff.columns:\n",
    "    ks_score, p_val = stats.ks_2samp(dff0[col], dff1[col])\n",
    "\n",
    "    ks.append(ks_score)\n",
    "    pv.append(p_val)\n",
    "\n",
    "    if p_val < 0.005:\n",
    "        ks_acc.append(ks_score)\n",
    "    else:\n",
    "        ks_rem.append(ks_score)"
   ]
  },
  {
   "cell_type": "code",
   "execution_count": 155,
   "metadata": {},
   "outputs": [
    {
     "data": {
      "image/png": "[encoded data removed]",
      "text/plain": [
       "<Figure size 1080x288 with 3 Axes>"
      ]
     },
     "metadata": {
      "needs_background": "light"
     },
     "output_type": "display_data"
    },
    {
     "name": "stdout",
     "output_type": "stream",
     "text": [
      "All features: 474 , significant: 275 , insignificant: 199\n"
     ]
    }
   ],
   "source": [
    "fig, ax = plt.subplots(1,3,figsize=(15,4))\n",
    "\n",
    "ax[0].hist(ks,bins=25,range=(0,0.25))\n",
    "ax[1].hist(ks_acc,bins=25,range=(0,0.25))\n",
    "ax[2].hist(ks_rem,bins=25,range=(0,0.25))\n",
    "\n",
    "ax[0].set_ylim(0,200)\n",
    "ax[1].set_ylim(0,200)\n",
    "ax[2].set_ylim(0,200)\n",
    "                 \n",
    "ax[0].set_xlabel('All')\n",
    "ax[1].set_xlabel('p_val < 0.005')\n",
    "ax[2].set_xlabel('p_val > 0.005')\n",
    "\n",
    "plt.show()\n",
    "\n",
    "print('All features:',len(ks),', significant:',len(ks_acc),', insignificant:',len(ks_rem))"
   ]
  },
  {
   "cell_type": "markdown",
   "metadata": {},
   "source": [
    "#### 4.4.4 Correlation matrix <a id='4.4.4_corr'></a>"
   ]
  },
  {
   "cell_type": "code",
   "execution_count": null,
   "metadata": {},
   "outputs": [],
   "source": []
  },
  {
   "cell_type": "code",
   "execution_count": 152,
   "metadata": {},
   "outputs": [
    {
     "data": {
      "image/png": "[encoded data removed]",
      "text/plain": [
       "<Figure size 720x576 with 2 Axes>"
      ]
     },
     "metadata": {
      "needs_background": "light"
     },
     "output_type": "display_data"
    }
   ],
   "source": [
    "cm = dff.corr()\n",
    "f, ax = plt.subplots(figsize=(10, 8))\n",
    "\n",
    "mask = np.triu(np.ones_like(cm, dtype=bool))\n",
    "\n",
    "sns.heatmap(cm,mask=mask);"
   ]
  },
  {
   "cell_type": "code",
   "execution_count": null,
   "metadata": {},
   "outputs": [],
   "source": []
  },
  {
   "cell_type": "markdown",
   "metadata": {},
   "source": [
    " ## 5. Categorical features  <a id='#5_categorical'></a>"
   ]
  },
  {
   "cell_type": "code",
   "execution_count": 248,
   "metadata": {},
   "outputs": [
    {
     "data": {
      "text/plain": [
       "(145231, 51)"
      ]
     },
     "execution_count": 248,
     "metadata": {},
     "output_type": "execute_result"
    }
   ],
   "source": [
    "dfc = df_all.select_dtypes(include='object')\n",
    "dfc.shape"
   ]
  },
  {
   "cell_type": "code",
   "execution_count": 249,
   "metadata": {},
   "outputs": [],
   "source": [
    "cols = dfc.columns\n",
    "cols_new = []\n",
    "\n",
    "for i in range(len(cols)):\n",
    "    cols_new.append(\"C-\" + str(i))\n",
    "    \n",
    "dfc.columns = cols_new"
   ]
  },
  {
   "cell_type": "code",
   "execution_count": 283,
   "metadata": {},
   "outputs": [
    {
     "data": {
      "text/html": [
       "<div>\n",
       "<style scoped>\n",
       "    .dataframe tbody tr th:only-of-type {\n",
       "        vertical-align: middle;\n",
       "    }\n",
       "\n",
       "    .dataframe tbody tr th {\n",
       "        vertical-align: top;\n",
       "    }\n",
       "\n",
       "    .dataframe thead th {\n",
       "        text-align: right;\n",
       "    }\n",
       "</style>\n",
       "<table border=\"1\" class=\"dataframe\">\n",
       "  <thead>\n",
       "    <tr style=\"text-align: right;\">\n",
       "      <th></th>\n",
       "      <th>C-0</th>\n",
       "      <th>C-1</th>\n",
       "      <th>C-2</th>\n",
       "      <th>C-3</th>\n",
       "      <th>C-4</th>\n",
       "      <th>C-5</th>\n",
       "      <th>C-6</th>\n",
       "      <th>C-7</th>\n",
       "      <th>C-8</th>\n",
       "      <th>C-9</th>\n",
       "      <th>C-10</th>\n",
       "      <th>C-11</th>\n",
       "      <th>C-12</th>\n",
       "      <th>C-13</th>\n",
       "    </tr>\n",
       "    <tr>\n",
       "      <th>ID</th>\n",
       "      <th></th>\n",
       "      <th></th>\n",
       "      <th></th>\n",
       "      <th></th>\n",
       "      <th></th>\n",
       "      <th></th>\n",
       "      <th></th>\n",
       "      <th></th>\n",
       "      <th></th>\n",
       "      <th></th>\n",
       "      <th></th>\n",
       "      <th></th>\n",
       "      <th></th>\n",
       "      <th></th>\n",
       "    </tr>\n",
       "  </thead>\n",
       "  <tbody>\n",
       "    <tr>\n",
       "      <th>166</th>\n",
       "      <td>R</td>\n",
       "      <td>N</td>\n",
       "      <td>False</td>\n",
       "      <td>False</td>\n",
       "      <td>False</td>\n",
       "      <td>False</td>\n",
       "      <td>False</td>\n",
       "      <td>False</td>\n",
       "      <td>[]</td>\n",
       "      <td>11SEP12:00:00:00</td>\n",
       "      <td>24SEP10:00:00:00</td>\n",
       "      <td>02AUG11:00:00:00</td>\n",
       "      <td>05JUL12:00:00:00</td>\n",
       "      <td>31JAN12:00:00:00</td>\n",
       "    </tr>\n",
       "    <tr>\n",
       "      <th>249</th>\n",
       "      <td>R</td>\n",
       "      <td>C</td>\n",
       "      <td>False</td>\n",
       "      <td>False</td>\n",
       "      <td>False</td>\n",
       "      <td>False</td>\n",
       "      <td>False</td>\n",
       "      <td>False</td>\n",
       "      <td>[]</td>\n",
       "      <td>01OCT12:00:00:00</td>\n",
       "      <td>02NOV09:00:00:00</td>\n",
       "      <td>05MAY11:00:00:00</td>\n",
       "      <td>05JUN11:00:00:00</td>\n",
       "      <td>01MAR12:00:00:00</td>\n",
       "    </tr>\n",
       "    <tr>\n",
       "      <th>604</th>\n",
       "      <td>R</td>\n",
       "      <td>B</td>\n",
       "      <td>False</td>\n",
       "      <td>False</td>\n",
       "      <td>False</td>\n",
       "      <td>False</td>\n",
       "      <td>False</td>\n",
       "      <td>False</td>\n",
       "      <td>[]</td>\n",
       "      <td>22JUN12:00:00:00</td>\n",
       "      <td>09NOV11:00:00:00</td>\n",
       "      <td>09NOV11:00:00:00</td>\n",
       "      <td>26MAY12:00:00:00</td>\n",
       "      <td>22FEB12:00:00:00</td>\n",
       "    </tr>\n",
       "    <tr>\n",
       "      <th>886</th>\n",
       "      <td>R</td>\n",
       "      <td>N</td>\n",
       "      <td>False</td>\n",
       "      <td>False</td>\n",
       "      <td>False</td>\n",
       "      <td>False</td>\n",
       "      <td>False</td>\n",
       "      <td>False</td>\n",
       "      <td>[]</td>\n",
       "      <td>12JUN12:00:00:00</td>\n",
       "      <td>01APR09:00:00:00</td>\n",
       "      <td>01JAN12:00:00:00</td>\n",
       "      <td>16JUN12:00:00:00</td>\n",
       "      <td>29FEB12:00:00:00</td>\n",
       "    </tr>\n",
       "    <tr>\n",
       "      <th>3062</th>\n",
       "      <td>H</td>\n",
       "      <td>B</td>\n",
       "      <td>False</td>\n",
       "      <td>False</td>\n",
       "      <td>False</td>\n",
       "      <td>False</td>\n",
       "      <td>False</td>\n",
       "      <td>False</td>\n",
       "      <td>[]</td>\n",
       "      <td>07MAR12:00:00:00</td>\n",
       "      <td>06SEP10:00:00:00</td>\n",
       "      <td>12OCT11:00:00:00</td>\n",
       "      <td>09MAR12:00:00:00</td>\n",
       "      <td>02MAR12:00:00:00</td>\n",
       "    </tr>\n",
       "  </tbody>\n",
       "</table>\n",
       "</div>"
      ],
      "text/plain": [
       "     C-0 C-1    C-2    C-3    C-4    C-5    C-6    C-7 C-8               C-9  \\\n",
       "ID                                                                             \n",
       "166    R   N  False  False  False  False  False  False  []  11SEP12:00:00:00   \n",
       "249    R   C  False  False  False  False  False  False  []  01OCT12:00:00:00   \n",
       "604    R   B  False  False  False  False  False  False  []  22JUN12:00:00:00   \n",
       "886    R   N  False  False  False  False  False  False  []  12JUN12:00:00:00   \n",
       "3062   H   B  False  False  False  False  False  False  []  07MAR12:00:00:00   \n",
       "\n",
       "                  C-10              C-11              C-12              C-13  \n",
       "ID                                                                            \n",
       "166   24SEP10:00:00:00  02AUG11:00:00:00  05JUL12:00:00:00  31JAN12:00:00:00  \n",
       "249   02NOV09:00:00:00  05MAY11:00:00:00  05JUN11:00:00:00  01MAR12:00:00:00  \n",
       "604   09NOV11:00:00:00  09NOV11:00:00:00  26MAY12:00:00:00  22FEB12:00:00:00  \n",
       "886   01APR09:00:00:00  01JAN12:00:00:00  16JUN12:00:00:00  29FEB12:00:00:00  \n",
       "3062  06SEP10:00:00:00  12OCT11:00:00:00  09MAR12:00:00:00  02MAR12:00:00:00  "
      ]
     },
     "execution_count": 283,
     "metadata": {},
     "output_type": "execute_result"
    }
   ],
   "source": [
    "dfc.iloc[:,0:14].dropna().head()"
   ]
  },
  {
   "cell_type": "code",
   "execution_count": 285,
   "metadata": {},
   "outputs": [
    {
     "data": {
      "text/html": [
       "<div>\n",
       "<style scoped>\n",
       "    .dataframe tbody tr th:only-of-type {\n",
       "        vertical-align: middle;\n",
       "    }\n",
       "\n",
       "    .dataframe tbody tr th {\n",
       "        vertical-align: top;\n",
       "    }\n",
       "\n",
       "    .dataframe thead th {\n",
       "        text-align: right;\n",
       "    }\n",
       "</style>\n",
       "<table border=\"1\" class=\"dataframe\">\n",
       "  <thead>\n",
       "    <tr style=\"text-align: right;\">\n",
       "      <th></th>\n",
       "      <th>C-14</th>\n",
       "      <th>C-15</th>\n",
       "      <th>C-16</th>\n",
       "      <th>C-17</th>\n",
       "      <th>C-18</th>\n",
       "      <th>C-19</th>\n",
       "      <th>C-20</th>\n",
       "      <th>C-21</th>\n",
       "    </tr>\n",
       "    <tr>\n",
       "      <th>ID</th>\n",
       "      <th></th>\n",
       "      <th></th>\n",
       "      <th></th>\n",
       "      <th></th>\n",
       "      <th></th>\n",
       "      <th></th>\n",
       "      <th></th>\n",
       "      <th></th>\n",
       "    </tr>\n",
       "  </thead>\n",
       "  <tbody>\n",
       "    <tr>\n",
       "      <th>249</th>\n",
       "      <td>02FEB12:00:00:00</td>\n",
       "      <td>05APR10:00:00:00</td>\n",
       "      <td>21MAY12:00:00:00</td>\n",
       "      <td>20APR11:00:00:00</td>\n",
       "      <td>13APR12:00:00:00</td>\n",
       "      <td>05APR10:00:00:00</td>\n",
       "      <td>21MAY12:00:00:00</td>\n",
       "      <td>01MAR12:00:00:00</td>\n",
       "    </tr>\n",
       "    <tr>\n",
       "      <th>1682</th>\n",
       "      <td>19JUN12:00:00:00</td>\n",
       "      <td>14JUL11:00:00:00</td>\n",
       "      <td>04JAN12:00:00:00</td>\n",
       "      <td>29JUL11:00:00:00</td>\n",
       "      <td>06DEC11:00:00:00</td>\n",
       "      <td>14JUL11:00:00:00</td>\n",
       "      <td>04JAN12:00:00:00</td>\n",
       "      <td>29JUL11:00:00:00</td>\n",
       "    </tr>\n",
       "    <tr>\n",
       "      <th>2778</th>\n",
       "      <td>09JUL12:00:00:00</td>\n",
       "      <td>28APR08:00:00:00</td>\n",
       "      <td>03AUG12:00:00:00</td>\n",
       "      <td>02JUL12:00:00:00</td>\n",
       "      <td>10JUL12:00:00:00</td>\n",
       "      <td>28APR08:00:00:00</td>\n",
       "      <td>09AUG12:00:00:00</td>\n",
       "      <td>02JUL12:00:00:00</td>\n",
       "    </tr>\n",
       "    <tr>\n",
       "      <th>4805</th>\n",
       "      <td>03OCT12:00:00:00</td>\n",
       "      <td>15NOV10:00:00:00</td>\n",
       "      <td>05JUL11:00:00:00</td>\n",
       "      <td>01JUN11:00:00:00</td>\n",
       "      <td>01JUN11:00:00:00</td>\n",
       "      <td>15NOV10:00:00:00</td>\n",
       "      <td>05JUL11:00:00:00</td>\n",
       "      <td>01JUN11:00:00:00</td>\n",
       "    </tr>\n",
       "    <tr>\n",
       "      <th>6296</th>\n",
       "      <td>21DEC11:00:00:00</td>\n",
       "      <td>10SEP07:00:00:00</td>\n",
       "      <td>29MAY12:00:00:00</td>\n",
       "      <td>29JUN11:00:00:00</td>\n",
       "      <td>02APR12:00:00:00</td>\n",
       "      <td>10SEP07:00:00:00</td>\n",
       "      <td>29MAY12:00:00:00</td>\n",
       "      <td>24FEB12:00:00:00</td>\n",
       "    </tr>\n",
       "  </tbody>\n",
       "</table>\n",
       "</div>"
      ],
      "text/plain": [
       "                  C-14              C-15              C-16              C-17  \\\n",
       "ID                                                                             \n",
       "249   02FEB12:00:00:00  05APR10:00:00:00  21MAY12:00:00:00  20APR11:00:00:00   \n",
       "1682  19JUN12:00:00:00  14JUL11:00:00:00  04JAN12:00:00:00  29JUL11:00:00:00   \n",
       "2778  09JUL12:00:00:00  28APR08:00:00:00  03AUG12:00:00:00  02JUL12:00:00:00   \n",
       "4805  03OCT12:00:00:00  15NOV10:00:00:00  05JUL11:00:00:00  01JUN11:00:00:00   \n",
       "6296  21DEC11:00:00:00  10SEP07:00:00:00  29MAY12:00:00:00  29JUN11:00:00:00   \n",
       "\n",
       "                  C-18              C-19              C-20              C-21  \n",
       "ID                                                                            \n",
       "249   13APR12:00:00:00  05APR10:00:00:00  21MAY12:00:00:00  01MAR12:00:00:00  \n",
       "1682  06DEC11:00:00:00  14JUL11:00:00:00  04JAN12:00:00:00  29JUL11:00:00:00  \n",
       "2778  10JUL12:00:00:00  28APR08:00:00:00  09AUG12:00:00:00  02JUL12:00:00:00  \n",
       "4805  01JUN11:00:00:00  15NOV10:00:00:00  05JUL11:00:00:00  01JUN11:00:00:00  \n",
       "6296  02APR12:00:00:00  10SEP07:00:00:00  29MAY12:00:00:00  24FEB12:00:00:00  "
      ]
     },
     "execution_count": 285,
     "metadata": {},
     "output_type": "execute_result"
    }
   ],
   "source": [
    "dfc.iloc[:,14:22].dropna().head()"
   ]
  },
  {
   "cell_type": "code",
   "execution_count": 297,
   "metadata": {},
   "outputs": [
    {
     "data": {
      "text/html": [
       "<div>\n",
       "<style scoped>\n",
       "    .dataframe tbody tr th:only-of-type {\n",
       "        vertical-align: middle;\n",
       "    }\n",
       "\n",
       "    .dataframe tbody tr th {\n",
       "        vertical-align: top;\n",
       "    }\n",
       "\n",
       "    .dataframe thead th {\n",
       "        text-align: right;\n",
       "    }\n",
       "</style>\n",
       "<table border=\"1\" class=\"dataframe\">\n",
       "  <thead>\n",
       "    <tr style=\"text-align: right;\">\n",
       "      <th></th>\n",
       "      <th>C-22</th>\n",
       "      <th>C-23</th>\n",
       "      <th>C-24</th>\n",
       "      <th>C-25</th>\n",
       "      <th>C-26</th>\n",
       "      <th>C-27</th>\n",
       "      <th>C-28</th>\n",
       "      <th>C-29</th>\n",
       "      <th>C-30</th>\n",
       "      <th>C-31</th>\n",
       "      <th>C-32</th>\n",
       "      <th>C-33</th>\n",
       "    </tr>\n",
       "    <tr>\n",
       "      <th>ID</th>\n",
       "      <th></th>\n",
       "      <th></th>\n",
       "      <th></th>\n",
       "      <th></th>\n",
       "      <th></th>\n",
       "      <th></th>\n",
       "      <th></th>\n",
       "      <th></th>\n",
       "      <th></th>\n",
       "      <th></th>\n",
       "      <th></th>\n",
       "      <th></th>\n",
       "    </tr>\n",
       "  </thead>\n",
       "  <tbody>\n",
       "    <tr>\n",
       "      <th>87489</th>\n",
       "      <td>13APR12:00:00:00</td>\n",
       "      <td>False</td>\n",
       "      <td>BATON ROUGE</td>\n",
       "      <td>BatchInquiry</td>\n",
       "      <td>30JAN14:21:09:00</td>\n",
       "      <td>HRE-Social Security Number-1373</td>\n",
       "      <td>DS</td>\n",
       "      <td>19APR12:02:00:00</td>\n",
       "      <td>C6</td>\n",
       "      <td>False</td>\n",
       "      <td>False</td>\n",
       "      <td>False</td>\n",
       "    </tr>\n",
       "    <tr>\n",
       "      <th>113977</th>\n",
       "      <td>23FEB10:00:00:00</td>\n",
       "      <td>False</td>\n",
       "      <td>GREENVILLE</td>\n",
       "      <td>BatchInquiry</td>\n",
       "      <td>30JAN14:23:20:00</td>\n",
       "      <td>HRE-Social Security Number-1747</td>\n",
       "      <td>DS</td>\n",
       "      <td>24MAY12:02:00:00</td>\n",
       "      <td>C6</td>\n",
       "      <td>False</td>\n",
       "      <td>False</td>\n",
       "      <td>False</td>\n",
       "    </tr>\n",
       "    <tr>\n",
       "      <th>123414</th>\n",
       "      <td>14APR12:00:00:00</td>\n",
       "      <td>False</td>\n",
       "      <td>MONTGOMERY</td>\n",
       "      <td>BatchInquiry</td>\n",
       "      <td>30JAN14:21:19:00</td>\n",
       "      <td>HRE-Social Security Number-1397</td>\n",
       "      <td>DS</td>\n",
       "      <td>20APR12:02:00:00</td>\n",
       "      <td>C6</td>\n",
       "      <td>False</td>\n",
       "      <td>False</td>\n",
       "      <td>False</td>\n",
       "    </tr>\n",
       "    <tr>\n",
       "      <th>127147</th>\n",
       "      <td>03OCT11:00:00:00</td>\n",
       "      <td>False</td>\n",
       "      <td>ALTAMONTE SPRINGS</td>\n",
       "      <td>BatchInquiry</td>\n",
       "      <td>29JAN14:19:55:00</td>\n",
       "      <td>HRE-Social Security Number-15335</td>\n",
       "      <td>DS</td>\n",
       "      <td>24OCT11:02:00:00</td>\n",
       "      <td>C6</td>\n",
       "      <td>False</td>\n",
       "      <td>False</td>\n",
       "      <td>False</td>\n",
       "    </tr>\n",
       "  </tbody>\n",
       "</table>\n",
       "</div>"
      ],
      "text/plain": [
       "                    C-22   C-23               C-24          C-25  \\\n",
       "ID                                                                 \n",
       "87489   13APR12:00:00:00  False        BATON ROUGE  BatchInquiry   \n",
       "113977  23FEB10:00:00:00  False         GREENVILLE  BatchInquiry   \n",
       "123414  14APR12:00:00:00  False         MONTGOMERY  BatchInquiry   \n",
       "127147  03OCT11:00:00:00  False  ALTAMONTE SPRINGS  BatchInquiry   \n",
       "\n",
       "                    C-26                              C-27 C-28  \\\n",
       "ID                                                                \n",
       "87489   30JAN14:21:09:00   HRE-Social Security Number-1373   DS   \n",
       "113977  30JAN14:23:20:00   HRE-Social Security Number-1747   DS   \n",
       "123414  30JAN14:21:19:00   HRE-Social Security Number-1397   DS   \n",
       "127147  29JAN14:19:55:00  HRE-Social Security Number-15335   DS   \n",
       "\n",
       "                    C-29 C-30   C-31   C-32   C-33  \n",
       "ID                                                  \n",
       "87489   19APR12:02:00:00   C6  False  False  False  \n",
       "113977  24MAY12:02:00:00   C6  False  False  False  \n",
       "123414  20APR12:02:00:00   C6  False  False  False  \n",
       "127147  24OCT11:02:00:00   C6  False  False  False  "
      ]
     },
     "execution_count": 297,
     "metadata": {},
     "output_type": "execute_result"
    }
   ],
   "source": [
    "dfc.iloc[:,22:34].dropna().head()"
   ]
  },
  {
   "cell_type": "code",
   "execution_count": 298,
   "metadata": {},
   "outputs": [
    {
     "data": {
      "text/html": [
       "<div>\n",
       "<style scoped>\n",
       "    .dataframe tbody tr th:only-of-type {\n",
       "        vertical-align: middle;\n",
       "    }\n",
       "\n",
       "    .dataframe tbody tr th {\n",
       "        vertical-align: top;\n",
       "    }\n",
       "\n",
       "    .dataframe thead th {\n",
       "        text-align: right;\n",
       "    }\n",
       "</style>\n",
       "<table border=\"1\" class=\"dataframe\">\n",
       "  <thead>\n",
       "    <tr style=\"text-align: right;\">\n",
       "      <th></th>\n",
       "      <th>C-34</th>\n",
       "      <th>C-35</th>\n",
       "      <th>C-36</th>\n",
       "      <th>C-37</th>\n",
       "      <th>C-38</th>\n",
       "      <th>C-39</th>\n",
       "      <th>C-40</th>\n",
       "      <th>C-41</th>\n",
       "      <th>C-42</th>\n",
       "      <th>C-43</th>\n",
       "      <th>C-44</th>\n",
       "      <th>C-45</th>\n",
       "      <th>C-46</th>\n",
       "      <th>C-47</th>\n",
       "      <th>C-48</th>\n",
       "      <th>C-49</th>\n",
       "      <th>C-50</th>\n",
       "    </tr>\n",
       "    <tr>\n",
       "      <th>ID</th>\n",
       "      <th></th>\n",
       "      <th></th>\n",
       "      <th></th>\n",
       "      <th></th>\n",
       "      <th></th>\n",
       "      <th></th>\n",
       "      <th></th>\n",
       "      <th></th>\n",
       "      <th></th>\n",
       "      <th></th>\n",
       "      <th></th>\n",
       "      <th></th>\n",
       "      <th></th>\n",
       "      <th></th>\n",
       "      <th></th>\n",
       "      <th></th>\n",
       "      <th></th>\n",
       "    </tr>\n",
       "  </thead>\n",
       "  <tbody>\n",
       "    <tr>\n",
       "      <th>2</th>\n",
       "      <td>True</td>\n",
       "      <td>True</td>\n",
       "      <td>FL</td>\n",
       "      <td>False</td>\n",
       "      <td>FL</td>\n",
       "      <td>S</td>\n",
       "      <td>S</td>\n",
       "      <td>-1</td>\n",
       "      <td>CF</td>\n",
       "      <td>O</td>\n",
       "      <td>U</td>\n",
       "      <td>O</td>\n",
       "      <td>CHIEF EXECUTIVE OFFICER</td>\n",
       "      <td>-1</td>\n",
       "      <td>-1</td>\n",
       "      <td>COMMUNITY ASSOCIATION MANAGER</td>\n",
       "      <td>IAPS</td>\n",
       "    </tr>\n",
       "    <tr>\n",
       "      <th>4</th>\n",
       "      <td>False</td>\n",
       "      <td>True</td>\n",
       "      <td>CA</td>\n",
       "      <td>False</td>\n",
       "      <td>MI</td>\n",
       "      <td>S</td>\n",
       "      <td>S</td>\n",
       "      <td>H</td>\n",
       "      <td>EC</td>\n",
       "      <td>O</td>\n",
       "      <td>R</td>\n",
       "      <td>R</td>\n",
       "      <td>-1</td>\n",
       "      <td>I</td>\n",
       "      <td>Discharged</td>\n",
       "      <td>-1</td>\n",
       "      <td>IAPS</td>\n",
       "    </tr>\n",
       "    <tr>\n",
       "      <th>5</th>\n",
       "      <td>True</td>\n",
       "      <td>True</td>\n",
       "      <td>WV</td>\n",
       "      <td>False</td>\n",
       "      <td>WV</td>\n",
       "      <td>S</td>\n",
       "      <td>P</td>\n",
       "      <td>R</td>\n",
       "      <td>UU</td>\n",
       "      <td>R</td>\n",
       "      <td>R</td>\n",
       "      <td>-1</td>\n",
       "      <td>-1</td>\n",
       "      <td>-1</td>\n",
       "      <td>-1</td>\n",
       "      <td>-1</td>\n",
       "      <td>IAPS</td>\n",
       "    </tr>\n",
       "    <tr>\n",
       "      <th>7</th>\n",
       "      <td>False</td>\n",
       "      <td>True</td>\n",
       "      <td>TX</td>\n",
       "      <td>False</td>\n",
       "      <td>TX</td>\n",
       "      <td>S</td>\n",
       "      <td>P</td>\n",
       "      <td>H</td>\n",
       "      <td>-1</td>\n",
       "      <td>R</td>\n",
       "      <td>R</td>\n",
       "      <td>-1</td>\n",
       "      <td>-1</td>\n",
       "      <td>-1</td>\n",
       "      <td>-1</td>\n",
       "      <td>-1</td>\n",
       "      <td>RCC</td>\n",
       "    </tr>\n",
       "    <tr>\n",
       "      <th>8</th>\n",
       "      <td>True</td>\n",
       "      <td>True</td>\n",
       "      <td>IL</td>\n",
       "      <td>False</td>\n",
       "      <td>IL</td>\n",
       "      <td>S</td>\n",
       "      <td>P</td>\n",
       "      <td>S</td>\n",
       "      <td>-1</td>\n",
       "      <td>R</td>\n",
       "      <td>U</td>\n",
       "      <td>O</td>\n",
       "      <td>-1</td>\n",
       "      <td>-1</td>\n",
       "      <td>-1</td>\n",
       "      <td>-1</td>\n",
       "      <td>BRANCH</td>\n",
       "    </tr>\n",
       "  </tbody>\n",
       "</table>\n",
       "</div>"
      ],
      "text/plain": [
       "     C-34  C-35 C-36   C-37 C-38 C-39 C-40 C-41 C-42 C-43 C-44 C-45  \\\n",
       "ID                                                                    \n",
       "2    True  True   FL  False   FL    S    S   -1   CF    O    U    O   \n",
       "4   False  True   CA  False   MI    S    S    H   EC    O    R    R   \n",
       "5    True  True   WV  False   WV    S    P    R   UU    R    R   -1   \n",
       "7   False  True   TX  False   TX    S    P    H   -1    R    R   -1   \n",
       "8    True  True   IL  False   IL    S    P    S   -1    R    U    O   \n",
       "\n",
       "                       C-46 C-47        C-48                           C-49  \\\n",
       "ID                                                                            \n",
       "2   CHIEF EXECUTIVE OFFICER   -1          -1  COMMUNITY ASSOCIATION MANAGER   \n",
       "4                        -1    I  Discharged                             -1   \n",
       "5                        -1   -1          -1                             -1   \n",
       "7                        -1   -1          -1                             -1   \n",
       "8                        -1   -1          -1                             -1   \n",
       "\n",
       "      C-50  \n",
       "ID          \n",
       "2     IAPS  \n",
       "4     IAPS  \n",
       "5     IAPS  \n",
       "7      RCC  \n",
       "8   BRANCH  "
      ]
     },
     "execution_count": 298,
     "metadata": {},
     "output_type": "execute_result"
    }
   ],
   "source": [
    "dfc.iloc[:,34:51].dropna().head()"
   ]
  },
  {
   "cell_type": "code",
   "execution_count": 306,
   "metadata": {},
   "outputs": [
    {
     "data": {
      "text/plain": [
       "C-0         3\n",
       "C-1         4\n",
       "C-2         2\n",
       "C-3         2\n",
       "C-4         2\n",
       "C-5         2\n",
       "C-6         2\n",
       "C-7         2\n",
       "C-8         2\n",
       "C-9      1459\n",
       "C-10     2372\n",
       "C-11      731\n",
       "C-12      425\n",
       "C-13      408\n",
       "C-14      651\n",
       "C-15     2146\n",
       "C-16      854\n",
       "C-17     1646\n",
       "C-18     1909\n",
       "C-19     2164\n",
       "C-20      946\n",
       "C-21     1649\n",
       "C-22     1876\n",
       "C-23        2\n",
       "C-24    12386\n",
       "C-25        2\n",
       "C-26     1193\n",
       "C-27       13\n",
       "C-28        2\n",
       "C-29      398\n",
       "C-30        2\n",
       "C-31        3\n",
       "C-32        2\n",
       "C-33        3\n",
       "C-34        3\n",
       "C-35        3\n",
       "C-36       46\n",
       "C-37        2\n",
       "C-38       58\n",
       "C-39        8\n",
       "C-40        9\n",
       "C-41       10\n",
       "C-42       51\n",
       "C-43        5\n",
       "C-44        5\n",
       "C-45        5\n",
       "C-46     1824\n",
       "C-47        3\n",
       "C-48        5\n",
       "C-49      609\n",
       "C-50        5\n",
       "dtype: int64"
      ]
     },
     "execution_count": 306,
     "metadata": {},
     "output_type": "execute_result"
    }
   ],
   "source": [
    "#a = pd.concat((dfc.nunique(dropna=False),dfc.nunique()),axis=1,ignore_index=True).reset_index()\n",
    "#a.columns = ['feature','with_nan','w/o_nan']\n",
    "#a\n",
    "dfc.nunique(dropna=False)"
   ]
  },
  {
   "cell_type": "code",
   "execution_count": null,
   "metadata": {},
   "outputs": [],
   "source": []
  },
  {
   "cell_type": "markdown",
   "metadata": {},
   "source": [
    "### 5.1 Missing values <a id='5.1_nulls'></a>"
   ]
  },
  {
   "cell_type": "code",
   "execution_count": 206,
   "metadata": {},
   "outputs": [
    {
     "data": {
      "image/png": "[encoded data removed]",
      "text/plain": [
       "<Figure size 720x216 with 2 Axes>"
      ]
     },
     "metadata": {
      "needs_background": "light"
     },
     "output_type": "display_data"
    }
   ],
   "source": [
    "# for columns - sum over rows\n",
    "# for rows - sum over columns\n",
    "c= dfc.isna().sum(axis=0)/dfc.shape[0]\n",
    "r= dfc.isna().sum(axis=1)/dfc.shape[1]\n",
    "\n",
    "fig, ax = plt.subplots(1,2,figsize=(10,3))\n",
    "\n",
    "ax[0].hist(c,bins=50) \n",
    "ax[1].hist(r,bins=50)\n",
    "\n",
    "fig.suptitle('Numerical features (strings)')\n",
    "ax[0].set_yscale('log'); ax[0].set_ylim((0.5,len(c)*5)); ax[0].set_xlabel('N. of null entries / row')\n",
    "ax[1].set_yscale('log'); ax[1].set_ylim((0.5,len(r)*5)); ax[1].set_xlabel('N. of null entries / column');"
   ]
  },
  {
   "cell_type": "code",
   "execution_count": 188,
   "metadata": {},
   "outputs": [
    {
     "data": {
      "image/png": "[encoded data removed]",
      "text/plain": [
       "<Figure size 720x360 with 2 Axes>"
      ]
     },
     "metadata": {
      "needs_background": "light"
     },
     "output_type": "display_data"
    }
   ],
   "source": [
    "from matplotlib import colors \n",
    "\n",
    "fig, ax = plt.subplots(figsize=(10,5))\n",
    "\n",
    "nu = dfc.nunique()\n",
    "hist, bins= np.histogram(nu.ravel(), bins=100)\n",
    "logbins = np.logspace(np.log10(1),np.log10(bins[-1]),len(bins))\n",
    "\n",
    "plt.hist2d(c.ravel(),nu.ravel(),bins=(50,logbins),norm = colors.LogNorm())\n",
    "plt.yscale('log')\n",
    "plt.colorbar();\n",
    "plt.title('Numerical columns (strings)')\n",
    "plt.xlabel('Fraction of empty fields')\n",
    "plt.ylabel('Number of unique values');"
   ]
  },
  {
   "cell_type": "code",
   "execution_count": 301,
   "metadata": {},
   "outputs": [
    {
     "data": {
      "text/plain": [
       "C-9     1459\n",
       "C-11     731\n",
       "C-12     425\n",
       "C-13     408\n",
       "C-14     651\n",
       "C-15    2146\n",
       "C-16     854\n",
       "C-17    1646\n",
       "C-18    1909\n",
       "C-19    2164\n",
       "C-20     946\n",
       "C-21    1649\n",
       "C-22    1876\n",
       "C-27      13\n",
       "dtype: int64"
      ]
     },
     "execution_count": 301,
     "metadata": {},
     "output_type": "execute_result"
    }
   ],
   "source": [
    "sn = dfc[cols[c>0.5]].nunique(dropna=False)#.sort_values(ascending=False)\n",
    "#sn = dfc[cols[c>0.5]].max(axis=1,skipna=True)\n",
    "sn"
   ]
  },
  {
   "cell_type": "code",
   "execution_count": 264,
   "metadata": {},
   "outputs": [
    {
     "data": {
      "image/png": "[encoded data removed]",
      "text/plain": [
       "<Figure size 1440x360 with 2 Axes>"
      ]
     },
     "metadata": {
      "needs_background": "light"
     },
     "output_type": "display_data"
    }
   ],
   "source": [
    "fig, ax = plt.subplots(1,2,figsize=(20,5))\n",
    "\n",
    "cols = dfc.columns\n",
    "\n",
    "mask = df_all['target'] == 1\n",
    "dfc0 = dfc[cols][~mask]\n",
    "dfc1 = dfc[cols][mask]\n",
    "\n",
    "c0= dfc0.isna().sum(axis=0)/dfc0.shape[0]\n",
    "c1= dfc1.isna().sum(axis=0)/dfc1.shape[0]\n",
    "\n",
    "r0= dfc0.isna().sum(axis=1)/dfc0.shape[1]\n",
    "r1= dfc1.isna().sum(axis=1)/dfc1.shape[1]\n",
    "\n",
    "ax[0].hist(c0,bins=50,range=(0.,1.),alpha=0.5,log=True,label=\"target=0\")\n",
    "ax[0].hist(c1,bins=50,range=(0.,1.),alpha=0.5,log=True,label=\"target=1\")\n",
    "\n",
    "ax[1].hist(r0,bins=50,range=(0.,1.),alpha=0.5,log=True,label=\"target=0\")\n",
    "ax[1].hist(r1,bins=50,range=(0.,1.),alpha=0.5,log=True,label=\"target=1\")\n",
    "\n",
    "ax[0].set_xlabel('Fraction of empty fields / column',fontsize=16)\n",
    "ax[1].set_xlabel('Fraction of empty fields / row',fontsize=16)\n",
    "\n",
    "plt.legend(loc='best',fontsize=14)\n",
    "plt.show();"
   ]
  },
  {
   "cell_type": "code",
   "execution_count": null,
   "metadata": {},
   "outputs": [],
   "source": []
  },
  {
   "cell_type": "markdown",
   "metadata": {},
   "source": [
    "### 5.2 Unique values <a id='5.2_uniques'></a>"
   ]
  },
  {
   "cell_type": "code",
   "execution_count": 254,
   "metadata": {},
   "outputs": [],
   "source": [
    "nuni = []\n",
    "nuni_dic = {}\n",
    "\n",
    "for col in dfc.columns:\n",
    "    \n",
    "    nuni.append(dfc[col].nunique(dropna=False))\n",
    "    nuni_dic[col] = dfc[col].nunique(dropna=False)"
   ]
  },
  {
   "cell_type": "code",
   "execution_count": 255,
   "metadata": {},
   "outputs": [
    {
     "data": {
      "image/png": "[encoded data removed]",
      "text/plain": [
       "<Figure size 720x360 with 1 Axes>"
      ]
     },
     "metadata": {
      "needs_background": "light"
     },
     "output_type": "display_data"
    }
   ],
   "source": [
    "plt.figure(figsize=(10,5))\n",
    "\n",
    "hist, bins= np.histogram(nuni, bins=100)\n",
    "logbins = np.logspace(np.log10(1),np.log10(bins[-1]),len(bins))\n",
    "\n",
    "plt.hist(nuni, bins=logbins)\n",
    "plt.xscale('log')\n",
    "plt.xticks(fontsize=16)\n",
    "plt.yticks(fontsize=16)\n",
    "plt.title(\"Unique values per feature (strings)\",fontsize=15)\n",
    "plt.xlabel(\"Number of feature's unique values\",fontsize=15)\n",
    "plt.ylabel(\"Number of features\",fontsize=15)\n",
    "plt.show()"
   ]
  },
  {
   "cell_type": "code",
   "execution_count": 257,
   "metadata": {},
   "outputs": [],
   "source": [
    "s2 = []\n",
    "s3 = []\n",
    "sX = []\n",
    "sXX = []\n",
    "sXXX = []\n",
    "sXXXX = []\n",
    "\n",
    "for k,v in nuni_dic.items():\n",
    "    \n",
    "    if(v==2):      s2.append(k)\n",
    "    elif (v==3):   s3.append(k)\n",
    "    elif (v<15):   sX.append(k)\n",
    "    elif (v<100):  sXX.append(k)\n",
    "    elif (v<5000): sXXX.append(k)\n",
    "    else:          sXXXX.append(k)"
   ]
  },
  {
   "cell_type": "code",
   "execution_count": 258,
   "metadata": {},
   "outputs": [
    {
     "name": "stdout",
     "output_type": "stream",
     "text": [
      "False    145175\n",
      "NaN          56\n",
      "Name: C-2, dtype: int64 \n",
      " ---\n",
      "False    145175\n",
      "NaN          56\n",
      "Name: C-3, dtype: int64 \n",
      " ---\n",
      "False    145175\n",
      "NaN          56\n",
      "Name: C-4, dtype: int64 \n",
      " ---\n",
      "False    145175\n",
      "NaN          56\n",
      "Name: C-5, dtype: int64 \n",
      " ---\n",
      "False    145175\n",
      "NaN          56\n",
      "Name: C-6, dtype: int64 \n",
      " ---\n",
      "False    145175\n",
      "NaN          56\n",
      "Name: C-7, dtype: int64 \n",
      " ---\n",
      "[]     145175\n",
      "NaN        56\n",
      "Name: C-8, dtype: int64 \n",
      " ---\n",
      "False    145175\n",
      "NaN          56\n",
      "Name: C-23, dtype: int64 \n",
      " ---\n",
      "BatchInquiry    145175\n",
      "NaN                 56\n",
      "Name: C-25, dtype: int64 \n",
      " ---\n",
      "DS     145175\n",
      "NaN        56\n",
      "Name: C-28, dtype: int64 \n",
      " ---\n",
      "C6     145175\n",
      "NaN        56\n",
      "Name: C-30, dtype: int64 \n",
      " ---\n",
      "False    145175\n",
      "NaN          56\n",
      "Name: C-32, dtype: int64 \n",
      " ---\n",
      "False    145175\n",
      "NaN          56\n",
      "Name: C-37, dtype: int64 \n",
      " ---\n"
     ]
    }
   ],
   "source": [
    "for v in s2:\n",
    "    print(dfc[v].value_counts(dropna=False),'\\n ---')"
   ]
  },
  {
   "cell_type": "code",
   "execution_count": 259,
   "metadata": {},
   "outputs": [
    {
     "name": "stdout",
     "output_type": "stream",
     "text": [
      "R    84893\n",
      "H    59829\n",
      "Q      509\n",
      "Name: C-0, dtype: int64 \n",
      " ---\n",
      "False    144703\n",
      "True        472\n",
      "NaN          56\n",
      "Name: C-31, dtype: int64 \n",
      " ---\n",
      "False    145004\n",
      "True        171\n",
      "NaN          56\n",
      "Name: C-33, dtype: int64 \n",
      " ---\n",
      "True     82118\n",
      "False    63057\n",
      "NaN         56\n",
      "Name: C-34, dtype: int64 \n",
      " ---\n",
      "True     144849\n",
      "False       326\n",
      "NaN          56\n",
      "Name: C-35, dtype: int64 \n",
      " ---\n",
      "-1     121461\n",
      "I       22852\n",
      "NaN       918\n",
      "Name: C-47, dtype: int64 \n",
      " ---\n"
     ]
    }
   ],
   "source": [
    "for v in s3:\n",
    "    print(dfc[v].value_counts(dropna=False),'\\n ---')"
   ]
  },
  {
   "cell_type": "code",
   "execution_count": 260,
   "metadata": {},
   "outputs": [
    {
     "name": "stdout",
     "output_type": "stream",
     "text": [
      "B    71449\n",
      "C    54299\n",
      "N    16605\n",
      "S     2878\n",
      "Name: C-1, dtype: int64 \n",
      " ---\n",
      "NaN                                 145219\n",
      "HRE-Home Phone-0621                      1\n",
      "HRE-Social Security Number-18823         1\n",
      "HRE-Social Security Number-1747          1\n",
      "HRE-Social Security Number-1397          1\n",
      "HRE-Social Security Number-15335         1\n",
      "HRE-Social Security Number-1373          1\n",
      "HRE-Social Security Number-1855          1\n",
      "HRE-Social Security Number-2857          1\n",
      "FSI-0005-1                               1\n",
      "HRE-Social Security Number-10143         1\n",
      "HRE-Home Phone-0779                      1\n",
      "HRE-Social Security Number-1289          1\n",
      "Name: C-27, dtype: int64 \n",
      " ---\n",
      "S      113607\n",
      "H       24513\n",
      "-1       4960\n",
      "NaN       918\n",
      "P         637\n",
      "R         303\n",
      "F         267\n",
      "U          26\n",
      "Name: C-39, dtype: int64 \n",
      " ---\n",
      "S      108830\n",
      "H       25366\n",
      "P        6708\n",
      "-1       2907\n",
      "NaN       918\n",
      "R         413\n",
      "U          54\n",
      "M          33\n",
      "F           2\n",
      "Name: C-40, dtype: int64 \n",
      " ---\n",
      "S      89842\n",
      "H      26745\n",
      "-1     13574\n",
      "P      10988\n",
      "R       2056\n",
      "NaN      918\n",
      "F        825\n",
      "M        127\n",
      "U        115\n",
      "G         41\n",
      "Name: C-41, dtype: int64 \n",
      " ---\n",
      "U      59807\n",
      "O      51734\n",
      "R      30251\n",
      "-1      2521\n",
      "NaN      918\n",
      "Name: C-43, dtype: int64 \n",
      " ---\n",
      "U      70031\n",
      "R      38568\n",
      "O      29770\n",
      "-1      5944\n",
      "NaN      918\n",
      "Name: C-44, dtype: int64 \n",
      " ---\n",
      "U      68242\n",
      "R      35527\n",
      "-1     23643\n",
      "O      16901\n",
      "NaN      918\n",
      "Name: C-45, dtype: int64 \n",
      " ---\n",
      "-1              121675\n",
      "Discharged       20955\n",
      "Dismissed         1577\n",
      "NaN                918\n",
      "Discharge NA       106\n",
      "Name: C-48, dtype: int64 \n",
      " ---\n",
      "IAPS      68484\n",
      "BRANCH    66770\n",
      "MOBILE     4066\n",
      "CSC        3094\n",
      "RCC        2817\n",
      "Name: C-50, dtype: int64 \n",
      " ---\n"
     ]
    }
   ],
   "source": [
    "for v in sX:\n",
    "    print(dfc[v].value_counts(dropna=False),'\\n ---')"
   ]
  },
  {
   "cell_type": "code",
   "execution_count": 262,
   "metadata": {},
   "outputs": [
    {
     "name": "stdout",
     "output_type": "stream",
     "text": [
      "NaN                 101127\n",
      "13MAR09:00:00:00       260\n",
      "12MAR09:00:00:00       218\n",
      "10JUN11:00:00:00       138\n",
      "14DEC11:00:00:00       132\n",
      "                     ...  \n",
      "02JUN08:00:00:00         1\n",
      "26FEB09:00:00:00         1\n",
      "05SEP08:00:00:00         1\n",
      "06MAR10:00:00:00         1\n",
      "28OCT08:00:00:00         1\n",
      "Name: C-9, Length: 1459, dtype: int64 \n",
      " ---\n",
      "22SEP10:00:00:00    1168\n",
      "23SEP10:00:00:00     957\n",
      "06DEC11:00:00:00     776\n",
      "15NOV11:00:00:00     742\n",
      "22NOV11:00:00:00     706\n",
      "                    ... \n",
      "23AUG05:00:00:00       1\n",
      "14DEC08:00:00:00       1\n",
      "14DEC05:00:00:00       1\n",
      "25SEP06:00:00:00       1\n",
      "19APR05:00:00:00       1\n",
      "Name: C-10, Length: 2372, dtype: int64 \n",
      " ---\n",
      "NaN                 139361\n",
      "12DEC11:00:00:00        45\n",
      "13DEC11:00:00:00        34\n",
      "02JUL12:00:00:00        33\n",
      "20SEP11:00:00:00        31\n",
      "                     ...  \n",
      "09FEB09:00:00:00         1\n",
      "29JUL12:00:00:00         1\n",
      "10JUN10:00:00:00         1\n",
      "23MAR11:00:00:00         1\n",
      "13NOV10:00:00:00         1\n",
      "Name: C-11, Length: 731, dtype: int64 \n",
      " ---\n",
      "NaN                 144311\n",
      "05JUL12:00:00:00         8\n",
      "27JUL12:00:00:00         8\n",
      "06JUN12:00:00:00         7\n",
      "16NOV11:00:00:00         7\n",
      "                     ...  \n",
      "08DEC11:00:00:00         1\n",
      "17MAR12:00:00:00         1\n",
      "02NOV11:00:00:00         1\n",
      "15DEC11:00:00:00         1\n",
      "06AUG11:00:00:00         1\n",
      "Name: C-12, Length: 425, dtype: int64 \n",
      " ---\n",
      "NaN                 143142\n",
      "01JUN12:00:00:00        28\n",
      "01FEB12:00:00:00        28\n",
      "03FEB12:00:00:00        27\n",
      "30MAR12:00:00:00        24\n",
      "                     ...  \n",
      "18SEP12:00:00:00         1\n",
      "20OCT10:00:00:00         1\n",
      "29AUG11:00:00:00         1\n",
      "30JUN10:00:00:00         1\n",
      "07JAN12:00:00:00         1\n",
      "Name: C-13, Length: 408, dtype: int64 \n",
      " ---\n",
      "NaN                 139361\n",
      "04JUN12:00:00:00        49\n",
      "02JUL12:00:00:00        39\n",
      "09JUL12:00:00:00        35\n",
      "20DEC11:00:00:00        34\n",
      "                     ...  \n",
      "26JUN11:00:00:00         1\n",
      "13OCT12:00:00:00         1\n",
      "06APR10:00:00:00         1\n",
      "21FEB11:00:00:00         1\n",
      "10JUL11:00:00:00         1\n",
      "Name: C-14, Length: 651, dtype: int64 \n",
      " ---\n",
      "NaN                 131001\n",
      "19DEC11:00:00:00        45\n",
      "09JAN12:00:00:00        36\n",
      "05DEC11:00:00:00        36\n",
      "05JUL11:00:00:00        35\n",
      "                     ...  \n",
      "11OCT06:00:00:00         1\n",
      "07FEB09:00:00:00         1\n",
      "01NOV08:00:00:00         1\n",
      "01JUL05:00:00:00         1\n",
      "01MAR09:00:00:00         1\n",
      "Name: C-15, Length: 2146, dtype: int64 \n",
      " ---\n",
      "NaN                 142664\n",
      "03NOV11:00:00:00        27\n",
      "26AUG11:00:00:00        18\n",
      "06JAN12:00:00:00        17\n",
      "31DEC11:00:00:00        14\n",
      "                     ...  \n",
      "10NOV09:00:00:00         1\n",
      "16JAN11:00:00:00         1\n",
      "06OCT09:00:00:00         1\n",
      "12JUN09:00:00:00         1\n",
      "15JAN09:00:00:00         1\n",
      "Name: C-16, Length: 854, dtype: int64 \n",
      " ---\n",
      "NaN                 134506\n",
      "03NOV11:00:00:00       206\n",
      "06DEC11:00:00:00       111\n",
      "20JAN12:00:00:00       105\n",
      "23NOV11:00:00:00       104\n",
      "                     ...  \n",
      "12JUN09:00:00:00         1\n",
      "09DEC09:00:00:00         1\n",
      "24AUG06:00:00:00         1\n",
      "26JUL06:00:00:00         1\n",
      "24JUN12:00:00:00         1\n",
      "Name: C-17, Length: 1646, dtype: int64 \n",
      " ---\n",
      "NaN                 131001\n",
      "19DEC11:00:00:00        48\n",
      "04JUN12:00:00:00        45\n",
      "31OCT11:00:00:00        44\n",
      "02DEC11:00:00:00        44\n",
      "                     ...  \n",
      "29JUN07:00:00:00         1\n",
      "17FEB09:00:00:00         1\n",
      "25FEB08:00:00:00         1\n",
      "19DEC06:00:00:00         1\n",
      "02AUG08:00:00:00         1\n",
      "Name: C-18, Length: 1909, dtype: int64 \n",
      " ---\n",
      "NaN                 127699\n",
      "19DEC11:00:00:00        67\n",
      "12DEC11:00:00:00        67\n",
      "05DEC11:00:00:00        58\n",
      "21DEC11:00:00:00        49\n",
      "                     ...  \n",
      "29NOV04:00:00:00         1\n",
      "05JUL09:00:00:00         1\n",
      "14APR05:00:00:00         1\n",
      "01FEB06:00:00:00         1\n",
      "22OCT04:00:00:00         1\n",
      "Name: C-19, Length: 2164, dtype: int64 \n",
      " ---\n",
      "NaN                 141873\n",
      "03NOV11:00:00:00        28\n",
      "06JAN12:00:00:00        20\n",
      "26AUG11:00:00:00        18\n",
      "29JUN12:00:00:00        15\n",
      "                     ...  \n",
      "02SEP10:00:00:00         1\n",
      "05DEC08:00:00:00         1\n",
      "20NOV10:00:00:00         1\n",
      "17JUN10:00:00:00         1\n",
      "16NOV10:00:00:00         1\n",
      "Name: C-20, Length: 946, dtype: int64 \n",
      " ---\n",
      "NaN                 133158\n",
      "03NOV11:00:00:00       200\n",
      "10JAN12:00:00:00       173\n",
      "21FEB12:00:00:00       124\n",
      "20JAN12:00:00:00       112\n",
      "                     ...  \n",
      "13JUL09:00:00:00         1\n",
      "23OCT08:00:00:00         1\n",
      "12JUN09:00:00:00         1\n",
      "04OCT06:00:00:00         1\n",
      "14MAY11:00:00:00         1\n",
      "Name: C-21, Length: 1649, dtype: int64 \n",
      " ---\n",
      "NaN                 127699\n",
      "04JUN12:00:00:00        83\n",
      "19DEC11:00:00:00        64\n",
      "20DEC11:00:00:00        59\n",
      "09JUL12:00:00:00        58\n",
      "                     ...  \n",
      "04FEB05:00:00:00         1\n",
      "15JUN07:00:00:00         1\n",
      "19APR05:00:00:00         1\n",
      "30APR08:00:00:00         1\n",
      "31MAY08:00:00:00         1\n",
      "Name: C-22, Length: 1876, dtype: int64 \n",
      " ---\n",
      "31JAN14:15:54:00    242\n",
      "31JAN14:23:59:00    228\n",
      "31JAN14:18:30:00    223\n",
      "31JAN14:23:41:00    215\n",
      "31JAN14:23:33:00    215\n",
      "                   ... \n",
      "30JAN14:17:46:00      8\n",
      "29JAN14:20:34:00      8\n",
      "31JAN14:14:48:00      2\n",
      "31JAN14:22:28:00      1\n",
      "31JAN14:15:50:00      1\n",
      "Name: C-26, Length: 1193, dtype: int64 \n",
      " ---\n",
      "06DEC11:02:00:00    893\n",
      "07DEC11:02:00:00    853\n",
      "19JUN12:02:00:00    794\n",
      "06SEP12:02:00:00    746\n",
      "05SEP12:02:00:00    735\n",
      "                   ... \n",
      "16JAN12:02:00:00     35\n",
      "05FEB12:02:00:00     35\n",
      "06FEB12:02:00:00     35\n",
      "13FEB12:02:00:00     28\n",
      "26DEC11:02:00:00     19\n",
      "Name: C-29, Length: 398, dtype: int64 \n",
      " ---\n",
      "-1                                    130443\n",
      "CONTACT                                 2163\n",
      "PRESIDENT                               1315\n",
      "AGENT                                   1072\n",
      "NaN                                      918\n",
      "                                       ...  \n",
      "CLERICAL ASSISTANT                         1\n",
      "OWNR                                       1\n",
      "APPRAISER                                  1\n",
      "INTERIM CEO                                1\n",
      "PAYROLL AND BOOKKEEPER, SUPERVISOR         1\n",
      "Name: C-46, Length: 1824, dtype: int64 \n",
      " ---\n",
      "-1                                   135182\n",
      "REGISTERED NURSE                       1099\n",
      "NaN                                     918\n",
      "LICENSED PRACTICAL NURSE                767\n",
      "PHARMACY TECHNICIAN                     536\n",
      "                                      ...  \n",
      "VETERINARY                                1\n",
      "PSY TECH-DEVELOPMENTALLY DISABLED         1\n",
      "LICENSED PSYCHOLOGIST HSP                 1\n",
      "CHIROPRACTIC                              1\n",
      "EMT-PARAMEDIC                             1\n",
      "Name: C-49, Length: 609, dtype: int64 \n",
      " ---\n"
     ]
    }
   ],
   "source": [
    "for v in sXXX:\n",
    "    print(dfc[v].value_counts(dropna=False),'\\n ---')"
   ]
  },
  {
   "cell_type": "code",
   "execution_count": null,
   "metadata": {},
   "outputs": [],
   "source": []
  },
  {
   "cell_type": "markdown",
   "metadata": {},
   "source": [
    "### 5.3 Feature engineering  (strings) <a id='5.3_fi'></a>"
   ]
  },
  {
   "cell_type": "markdown",
   "metadata": {},
   "source": [
    "Based on the investigations above, the 51 string features can be divided into the following classes:\n",
    "    * columns C0-8,23,25,28,37,39-45,47,48,50 - with low number of unique values. They can be processes using LabelEncoder or OneHotEncoder.\n",
    "    \n",
    "    * columns C9-22,26,29,30-35 - contain datetime data. The dates can be converted into year, month, day of the month, day of the week etc; one could also calculate a difference between selected dates.\n",
    "    \n",
    "    * column C24 - contains more than 12k names of US locations (cities/towns). With an additional information about their population from CENSUS (add link) one could convert those fields into just a few corresponding to different city/town sizes.\n",
    "    \n",
    "    * column C27 - 12 fields contain social security or phone numbers, while the remaining fields (145k) have missing values. One could convert this feature to a binary one (1/0 for info given/missing), or perhaps even remove the whole column from the dataset.\n",
    "    \n",
    "    * columns C36 and C38 - encode the US state labels. C38 is not always the same as C36, so one could replace it with a binary information (different/the same).\n",
    "    \n",
    "    * columns C46 and C39 - list various profession/position names and have about 1.8k and 600 unique values, respectively. Most of the professions are listed only once or twice in the dataset. Settining a threshold on the minimal number of apperences could limit the number of labels to not more than 100 or 150 (see the reduction below for a threshold of 5), then apply LabelEncoder or OneHotEncoder."
   ]
  },
  {
   "cell_type": "code",
   "execution_count": null,
   "metadata": {},
   "outputs": [],
   "source": []
  },
  {
   "cell_type": "code",
   "execution_count": 379,
   "metadata": {},
   "outputs": [
    {
     "data": {
      "image/png": "[encoded data removed]",
      "text/plain": [
       "<Figure size 1080x360 with 2 Axes>"
      ]
     },
     "metadata": {
      "needs_background": "light"
     },
     "output_type": "display_data"
    }
   ],
   "source": [
    "fit, ax = plt.subplots(1,2,figsize=(15,5))\n",
    "\n",
    "ax[0].hist(dfc['C-46'].value_counts(dropna=False).values,range=(0,50),log=0,bins=50)\n",
    "ax[1].hist(dfc['C-49'].value_counts(dropna=False).values,range=(0,50),log=0,bins=50)\n",
    "\n",
    "ax[0].set_xlabel('Label multiplicity in the C-46 column',fontsize=15)\n",
    "ax[1].set_xlabel('Label multiplicity in the C-49 column',fontsize=15)  \n",
    "\n",
    "ax[0].set_ylabel('Number of labels',fontsize=15)\n",
    "\n",
    "\n",
    "plt.suptitle('Profession labels',fontsize=15)\n",
    "plt.show()"
   ]
  },
  {
   "cell_type": "code",
   "execution_count": 377,
   "metadata": {},
   "outputs": [
    {
     "name": "stdout",
     "output_type": "stream",
     "text": [
      "C-46: 1824 reduced to 119\n",
      "C-49: 609 reduced to 157\n"
     ]
    }
   ],
   "source": [
    "thres = 5\n",
    "frequent_46 = dfc['C-46'].value_counts(dropna=False).values>thres\n",
    "frequent_49 = dfc['C-49'].value_counts(dropna=False).values>thres\n",
    "print('C-46:',dfc['C-46'].nunique(dropna=False),'reduced to',frequent_46.sum())\n",
    "print('C-49:',dfc['C-49'].nunique(dropna=False),'reduced to',frequent_49.sum())"
   ]
  },
  {
   "cell_type": "code",
   "execution_count": null,
   "metadata": {},
   "outputs": [],
   "source": []
  },
  {
   "cell_type": "code",
   "execution_count": null,
   "metadata": {},
   "outputs": [],
   "source": []
  },
  {
   "cell_type": "code",
   "execution_count": null,
   "metadata": {},
   "outputs": [],
   "source": []
  },
  {
   "cell_type": "code",
   "execution_count": null,
   "metadata": {},
   "outputs": [],
   "source": []
  }
 ],
 "metadata": {
  "kernelspec": {
   "display_name": "Python 3",
   "language": "python",
   "name": "python3"
  },
  "language_info": {
   "codemirror_mode": {
    "name": "ipython",
    "version": 3
   },
   "file_extension": ".py",
   "mimetype": "text/x-python",
   "name": "python",
   "nbconvert_exporter": "python",
   "pygments_lexer": "ipython3",
   "version": "3.8.3"
  }
 },
 "nbformat": 4,
 "nbformat_minor": 4
}
